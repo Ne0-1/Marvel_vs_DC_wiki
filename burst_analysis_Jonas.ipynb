{
 "cells": [
  {
   "cell_type": "code",
   "execution_count": 1,
   "id": "5173a6af",
   "metadata": {},
   "outputs": [],
   "source": [
    "import os\n",
    "import io\n",
    "import re\n",
    "import networkx as nx\n",
    "import netwulf as nw \n",
    "from tqdm import tqdm\n",
    "import numpy as np\n",
    "import pandas as pd\n",
    "import matplotlib.pyplot as plt"
   ]
  },
  {
   "cell_type": "code",
   "execution_count": 2,
   "id": "39cb79b1",
   "metadata": {},
   "outputs": [],
   "source": [
    "df_marvel = pd.read_csv(\"files/marvel.csv\", index_col=0, encoding='utf8')\n",
    "df_marvel = df_marvel[df_marvel[\"WikiLink\"].notna()]\n",
    "df_dc = pd.read_csv(\"files/dc.csv\", index_col=0, encoding='utf8')\n",
    "df_dc = df_dc[df_dc[\"WikiLink\"].notna()]\n",
    "\n",
    "df_marvel['universe'] = 'Marvel'\n",
    "df_dc['universe'] = 'DC'\n",
    "\n",
    "df_comics = pd.concat([df_marvel, df_dc], ignore_index=True, axis=0)\n",
    "df_comics['creation'] = np.empty(len(df_comics),dtype=\"<U10\")"
   ]
  },
  {
   "cell_type": "code",
   "execution_count": 3,
   "id": "f137292d",
   "metadata": {},
   "outputs": [
    {
     "name": "stderr",
     "output_type": "stream",
     "text": [
      "2303it [13:08,  2.92it/s]\n"
     ]
    }
   ],
   "source": [
    "import requests\n",
    "import datetime\n",
    "import json\n",
    "from tqdm import tqdm\n",
    "import numpy as np\n",
    "from urllib import request\n",
    "from urllib.parse import quote\n",
    "import os\n",
    "import pickle\n",
    "\n",
    "BASE_URL = \"http://en.wikipedia.org/w/api.php\"\n",
    "\n",
    "time_stamp_dict = {}\n",
    "\n",
    "for idx, row in tqdm(df_comics.iloc[:].iterrows()):\n",
    "    wikilink = row[\"WikiLink\"]\n",
    "    character_name = row[\"CharacterName\"]\n",
    "    creations = []\n",
    "    for link in wikilink.split('|'):\n",
    "        parameters = { 'action': 'query',\n",
    "                   'format': 'json',\n",
    "                   'continue': '',\n",
    "                   'titles': link,\n",
    "                   'prop': 'revisions',\n",
    "                   'rvprop': 'content|timestamp',\n",
    "                    'rvslots': '*',\n",
    "                   'rvdir': 'newer',\n",
    "                   'redirects': 'yes', #Took me a while to find this. Now we get pages\n",
    "                      #that we should be redirected to! (Achebe (comics) redirects to\n",
    "                      #achebe (character)!)\n",
    "                   'rvlimit': 'max',\n",
    "                     'rvstart': '2006-01-20T00:00:00Z',\n",
    "                     'rvend': '2006-01-27T00:00:00Z'}\n",
    "        total_revisions = 0\n",
    "\n",
    "        revid_timestamp = dict()\n",
    "        count = 0\n",
    "        while True:\n",
    "            wp_call = requests.get(BASE_URL, params=parameters)\n",
    "            response = wp_call.json()\n",
    "        \n",
    "\n",
    "            for page_id in response['query']['pages']:\n",
    "                \n",
    "                if 'revisions' in response['query']['pages'][page_id].keys():\n",
    "                \n",
    "                    total_revisions += len(response['query']['pages'][page_id]['revisions'])\n",
    "                    response['query']['pages'][page_id]['revisions']\n",
    "\n",
    "                    for revision in response['query']['pages'][page_id]['revisions']:\n",
    "                        if count == 0:\n",
    "                            time_stamp_dict[revision['timestamp']] = (wikilink, set(re.findall(r\"\\[\\[(.*?)\\]\\]\",str(revision['slots']['main']['*']))))\n",
    "                            prev_ts = time_stamp_dict[revision['timestamp']][1]\n",
    "                        else:\n",
    "                            if not set(re.findall(r\"\\[\\[(.*?)\\]\\]\",str(revision['slots']['main']['*'])))-prev_ts == set():\n",
    "                                time_stamp_dict[revision['timestamp']] = (wikilink, set(re.findall(r\"\\[\\[(.*?)\\]\\]\",str(revision['slots']['main']['*'])))-prev_ts)\n",
    "                        try:\n",
    "                            prev_ts.update(time_stamp_dict[revision['timestamp']][1])\n",
    "                        except:\n",
    "                            continue\n",
    "                        count += 1\n",
    "\n",
    "            if 'continue' in response:\n",
    "                parameters['continue'] = response['continue']['continue']\n",
    "                parameters['rvcontinue'] = response['continue']['rvcontinue']\n",
    "\n",
    "            else:\n",
    "                break\n",
    "        "
   ]
  },
  {
   "cell_type": "code",
   "execution_count": 4,
   "id": "fa7e78b4",
   "metadata": {},
   "outputs": [],
   "source": [
    "sorted_ts_dict = dict(sorted(time_stamp_dict.items()))"
   ]
  },
  {
   "cell_type": "code",
   "execution_count": 107,
   "id": "14949e4f",
   "metadata": {},
   "outputs": [],
   "source": [
    "sorted_ts_dict_copy = sorted_ts_dict.copy()\n",
    "deleted = []\n",
    "for key, value in sorted_ts_dict.items():\n",
    "    if value[0] not in deleted:\n",
    "        deleted.append(value[0])\n",
    "        del sorted_ts_dict_copy[key]\n",
    "        "
   ]
  },
  {
   "cell_type": "code",
   "execution_count": 108,
   "id": "ca92a048",
   "metadata": {},
   "outputs": [],
   "source": [
    "edge_list = []\n",
    "for key, value in sorted_ts_dict_copy.items():\n",
    "    source = value[0]\n",
    "    for target in value[1]:\n",
    "        if target in list(df_comics['WikiLink']):\n",
    "            key = key.replace('-','').replace('T','').replace(':','').replace('Z','')\n",
    "            edge_list.append([source, target, int(key)])\n"
   ]
  },
  {
   "cell_type": "code",
   "execution_count": 109,
   "id": "f2361af5",
   "metadata": {},
   "outputs": [],
   "source": [
    "temp_to_save = pd.DataFrame(edge_list, columns=['Source', 'Target', 'Timeset'])\n",
    "temp_to_save['Type'] = ['Directed' for i in range(len(temp_to_save))]\n",
    "temp_to_save.to_csv('timestamp_edge_list_onlyadded.csv', index=False)"
   ]
  },
  {
   "cell_type": "code",
   "execution_count": 110,
   "id": "396b89ff",
   "metadata": {},
   "outputs": [
    {
     "name": "stderr",
     "output_type": "stream",
     "text": [
      "<ipython-input-110-41aa62f16024>:22: SettingWithCopyWarning: \n",
      "A value is trying to be set on a copy of a slice from a DataFrame\n",
      "\n",
      "See the caveats in the documentation: https://pandas.pydata.org/pandas-docs/stable/user_guide/indexing.html#returning-a-view-versus-a-copy\n",
      "  temp_to_save['Universe'][idx] = uni\n"
     ]
    }
   ],
   "source": [
    "node_dict = {}\n",
    "for idx, row in temp_to_save.iterrows():\n",
    "    source = row['Source']\n",
    "    try:\n",
    "        if node_dict[source] > row['Timeset']:\n",
    "            node_dict[source] = row['Timeset']\n",
    "    except:\n",
    "        node_dict[source] = row['Timeset']\n",
    "\n",
    "for idx, row in temp_to_save.iterrows():\n",
    "    target = row['Target']\n",
    "    try:\n",
    "        if node_dict[target] > row['Timeset']:\n",
    "            node_dict[target] = row['Timeset']\n",
    "    except:\n",
    "        node_dict[target] = row['Timeset']        \n",
    "temp_to_save = pd.DataFrame(list(node_dict.items()),columns=['Id','Timeset'])\n",
    "temp_to_save['Universe'] = np.zeros(len(temp_to_save))\n",
    "for idx, row in temp_to_save.iterrows():\n",
    "    uni = df_comics[df_comics['WikiLink']==row['Id']]['universe'].item()\n",
    "\n",
    "    temp_to_save['Universe'][idx] = uni\n",
    "temp_to_save.to_csv('timestamp_node_list_onlyadded.csv', index=False)\n"
   ]
  },
  {
   "cell_type": "code",
   "execution_count": 111,
   "id": "68e0ecf1",
   "metadata": {},
   "outputs": [
    {
     "data": {
      "text/html": [
       "<div>\n",
       "<style scoped>\n",
       "    .dataframe tbody tr th:only-of-type {\n",
       "        vertical-align: middle;\n",
       "    }\n",
       "\n",
       "    .dataframe tbody tr th {\n",
       "        vertical-align: top;\n",
       "    }\n",
       "\n",
       "    .dataframe thead th {\n",
       "        text-align: right;\n",
       "    }\n",
       "</style>\n",
       "<table border=\"1\" class=\"dataframe\">\n",
       "  <thead>\n",
       "    <tr style=\"text-align: right;\">\n",
       "      <th></th>\n",
       "      <th>Id</th>\n",
       "      <th>Timeset</th>\n",
       "      <th>Universe</th>\n",
       "    </tr>\n",
       "  </thead>\n",
       "  <tbody>\n",
       "    <tr>\n",
       "      <th>0</th>\n",
       "      <td>Sunfire (comics)</td>\n",
       "      <td>20060120153540</td>\n",
       "      <td>Marvel</td>\n",
       "    </tr>\n",
       "    <tr>\n",
       "      <th>1</th>\n",
       "      <td>Callisto (comics)</td>\n",
       "      <td>20060120194552</td>\n",
       "      <td>Marvel</td>\n",
       "    </tr>\n",
       "    <tr>\n",
       "      <th>2</th>\n",
       "      <td>Thundra</td>\n",
       "      <td>20060121123607</td>\n",
       "      <td>Marvel</td>\n",
       "    </tr>\n",
       "    <tr>\n",
       "      <th>3</th>\n",
       "      <td>Nightwing</td>\n",
       "      <td>20060121155159</td>\n",
       "      <td>DC</td>\n",
       "    </tr>\n",
       "    <tr>\n",
       "      <th>4</th>\n",
       "      <td>Man-Thing</td>\n",
       "      <td>20060121222254</td>\n",
       "      <td>Marvel</td>\n",
       "    </tr>\n",
       "    <tr>\n",
       "      <th>...</th>\n",
       "      <td>...</td>\n",
       "      <td>...</td>\n",
       "      <td>...</td>\n",
       "    </tr>\n",
       "    <tr>\n",
       "      <th>77</th>\n",
       "      <td>Shuma-Gorath</td>\n",
       "      <td>20060125215050</td>\n",
       "      <td>Marvel</td>\n",
       "    </tr>\n",
       "    <tr>\n",
       "      <th>78</th>\n",
       "      <td>Nicholas Scratch</td>\n",
       "      <td>20060126160405</td>\n",
       "      <td>Marvel</td>\n",
       "    </tr>\n",
       "    <tr>\n",
       "      <th>79</th>\n",
       "      <td>Doctor Mid-Nite</td>\n",
       "      <td>20060126193954</td>\n",
       "      <td>DC</td>\n",
       "    </tr>\n",
       "    <tr>\n",
       "      <th>80</th>\n",
       "      <td>Professor X</td>\n",
       "      <td>20060126193954</td>\n",
       "      <td>Marvel</td>\n",
       "    </tr>\n",
       "    <tr>\n",
       "      <th>81</th>\n",
       "      <td>Wonder Woman</td>\n",
       "      <td>20060126220502</td>\n",
       "      <td>DC</td>\n",
       "    </tr>\n",
       "  </tbody>\n",
       "</table>\n",
       "<p>82 rows × 3 columns</p>\n",
       "</div>"
      ],
      "text/plain": [
       "                   Id         Timeset Universe\n",
       "0    Sunfire (comics)  20060120153540   Marvel\n",
       "1   Callisto (comics)  20060120194552   Marvel\n",
       "2             Thundra  20060121123607   Marvel\n",
       "3           Nightwing  20060121155159       DC\n",
       "4           Man-Thing  20060121222254   Marvel\n",
       "..                ...             ...      ...\n",
       "77       Shuma-Gorath  20060125215050   Marvel\n",
       "78   Nicholas Scratch  20060126160405   Marvel\n",
       "79    Doctor Mid-Nite  20060126193954       DC\n",
       "80        Professor X  20060126193954   Marvel\n",
       "81       Wonder Woman  20060126220502       DC\n",
       "\n",
       "[82 rows x 3 columns]"
      ]
     },
     "execution_count": 111,
     "metadata": {},
     "output_type": "execute_result"
    }
   ],
   "source": [
    "temp_to_save"
   ]
  },
  {
   "cell_type": "code",
   "execution_count": 5,
   "id": "a1614f24",
   "metadata": {},
   "outputs": [],
   "source": [
    "frdf = pd.read_csv('edit-frwikiquote/out.edit-frwikiquote', sep='\\t', header=None)"
   ]
  },
  {
   "cell_type": "code",
   "execution_count": 6,
   "id": "d59f34e3",
   "metadata": {},
   "outputs": [
    {
     "data": {
      "text/html": [
       "<div>\n",
       "<style scoped>\n",
       "    .dataframe tbody tr th:only-of-type {\n",
       "        vertical-align: middle;\n",
       "    }\n",
       "\n",
       "    .dataframe tbody tr th {\n",
       "        vertical-align: top;\n",
       "    }\n",
       "\n",
       "    .dataframe thead th {\n",
       "        text-align: right;\n",
       "    }\n",
       "</style>\n",
       "<table border=\"1\" class=\"dataframe\">\n",
       "  <thead>\n",
       "    <tr style=\"text-align: right;\">\n",
       "      <th></th>\n",
       "      <th>0</th>\n",
       "      <th>1</th>\n",
       "      <th>2</th>\n",
       "      <th>3</th>\n",
       "    </tr>\n",
       "  </thead>\n",
       "  <tbody>\n",
       "    <tr>\n",
       "      <th>9730</th>\n",
       "      <td>875</td>\n",
       "      <td>353</td>\n",
       "      <td>1</td>\n",
       "      <td>1016068151</td>\n",
       "    </tr>\n",
       "    <tr>\n",
       "      <th>9731</th>\n",
       "      <td>876</td>\n",
       "      <td>353</td>\n",
       "      <td>1</td>\n",
       "      <td>1016068395</td>\n",
       "    </tr>\n",
       "    <tr>\n",
       "      <th>165076</th>\n",
       "      <td>22</td>\n",
       "      <td>19731</td>\n",
       "      <td>1</td>\n",
       "      <td>1026345997</td>\n",
       "    </tr>\n",
       "    <tr>\n",
       "      <th>165077</th>\n",
       "      <td>11</td>\n",
       "      <td>19731</td>\n",
       "      <td>1</td>\n",
       "      <td>1026518430</td>\n",
       "    </tr>\n",
       "    <tr>\n",
       "      <th>165078</th>\n",
       "      <td>4005</td>\n",
       "      <td>19731</td>\n",
       "      <td>1</td>\n",
       "      <td>1028727140</td>\n",
       "    </tr>\n",
       "  </tbody>\n",
       "</table>\n",
       "</div>"
      ],
      "text/plain": [
       "           0      1  2           3\n",
       "9730     875    353  1  1016068151\n",
       "9731     876    353  1  1016068395\n",
       "165076    22  19731  1  1026345997\n",
       "165077    11  19731  1  1026518430\n",
       "165078  4005  19731  1  1028727140"
      ]
     },
     "execution_count": 6,
     "metadata": {},
     "output_type": "execute_result"
    }
   ],
   "source": [
    "frdf = frdf.sort_values(3)\n",
    "frdf.head()"
   ]
  },
  {
   "cell_type": "code",
   "execution_count": 7,
   "id": "676d2b16",
   "metadata": {},
   "outputs": [],
   "source": [
    "def get_summed_list(dictionary):\n",
    "    G = nx.DiGraph()\n",
    "    G.add_nodes_from(df_comics['WikiLink'])\n",
    "    count = 0\n",
    "    for idx, (key, (source, targets)) in enumerate(dictionary.items()):\n",
    "        if idx == 0:\n",
    "            prev_neighbors = list(G.neighbors(source))\n",
    "            prev_predecessors = list(G.predecessors(source))\n",
    "            continue\n",
    "        edges = [(source,i) for i in targets if i in G.nodes]\n",
    "        G.add_edges_from(edges)\n",
    "\n",
    "        if source in prev_neighbors or source in prev_predecessors:\n",
    "            count += 1\n",
    "\n",
    "        prev_predecessors = list(G.predecessors(source))\n",
    "        prev_neighbors = list(G.neighbors(source))\n",
    "    return count"
   ]
  },
  {
   "cell_type": "code",
   "execution_count": 8,
   "id": "323d55d8",
   "metadata": {},
   "outputs": [],
   "source": [
    "import numpy as np\n",
    "import random\n",
    "def permute_dict_keys(dictionary, seed=0):\n",
    "    random.seed(seed)\n",
    "    keys = list(dictionary.keys())\n",
    "    random.shuffle(keys)\n",
    "    permuted_dict = dict([(key, dictionary[key]) for key in keys])\n",
    "    return permuted_dict\n",
    "def permute_rows(df, seed=0):\n",
    "    new_df = df.sample(frac=1, random_state=seed).reset_index()\n",
    "    return new_df"
   ]
  },
  {
   "cell_type": "code",
   "execution_count": 9,
   "id": "735f619e",
   "metadata": {},
   "outputs": [],
   "source": [
    "def get_summed_list_df(df):\n",
    "    G = nx.DiGraph()\n",
    "    count = 0\n",
    "    for (idx, row) in df.iterrows():\n",
    "        G.add_edge(row[0],row[1])\n",
    "\n",
    "        try:\n",
    "            if(row[0] in prev_neighbors or source in prev_predecessors):\n",
    "                count += 1\n",
    "        except:\n",
    "            pass\n",
    "        prev_predecessors = list(G.predecessors(row[0]))\n",
    "        prev_neighbors = list(G.neighbors(row[0]))\n",
    "    return count"
   ]
  },
  {
   "cell_type": "code",
   "execution_count": 10,
   "id": "941a813f",
   "metadata": {},
   "outputs": [
    {
     "name": "stderr",
     "output_type": "stream",
     "text": [
      "100%|██████████| 10/10 [01:44<00:00, 10.41s/it]\n"
     ]
    }
   ],
   "source": [
    "# do permutation test:\n",
    "perm_sums = []\n",
    "for seed in tqdm(range(10)):\n",
    "    permuted = permute_rows(df=frdf, seed=seed)\n",
    "    perm_sums.append(get_summed_list_df(permuted))"
   ]
  },
  {
   "cell_type": "code",
   "execution_count": 11,
   "id": "2743bdfc",
   "metadata": {},
   "outputs": [],
   "source": [
    "true_sum = get_summed_list_df(frdf)"
   ]
  },
  {
   "cell_type": "code",
   "execution_count": 12,
   "id": "9f30a5e3",
   "metadata": {},
   "outputs": [
    {
     "data": {
      "image/png": "[encoded data removed]",
      "text/plain": [
       "<Figure size 1080x360 with 1 Axes>"
      ]
     },
     "metadata": {
      "needs_background": "light"
     },
     "output_type": "display_data"
    }
   ],
   "source": [
    "fig, ax = plt.subplots(figsize=(15,5))\n",
    "\n",
    "bins = np.linspace(min(perm_sums), max(perm_sums), 30)\n",
    "\n",
    "\n",
    "hist, edges = np.histogram(perm_sums, bins=bins)\n",
    "\n",
    "x = (edges[1:]+edges[:-1])/2\n",
    "width = edges[1] - edges[0]\n",
    "\n",
    "ax.bar(x, hist, width=width*0.93)\n",
    "ax.axvline(true_sum, c='r', label='Observed mean')\n",
    "\n",
    "\n",
    "ax.set_title(\"Permutation test on burst\")\n",
    "\n",
    "ax.set_xlabel(\"Sum of list\")\n",
    "\n",
    "ax.set_ylabel(\"counts\")\n",
    "\n",
    "ax.legend()\n",
    "plt.tight_layout()\n",
    "plt.show()"
   ]
  },
  {
   "cell_type": "code",
   "execution_count": 13,
   "id": "61e63bef",
   "metadata": {},
   "outputs": [
    {
     "name": "stderr",
     "output_type": "stream",
     "text": [
      "100%|██████████| 1000/1000 [00:18<00:00, 54.33it/s]\n"
     ]
    }
   ],
   "source": [
    "# do permutation test:\n",
    "perm_sums = []\n",
    "for seed in tqdm(range(1000)):\n",
    "    permuted = permute_dict_keys(dictionary=sorted_ts_dict, seed=seed)\n",
    "    perm_sums.append(get_summed_list(permuted))"
   ]
  },
  {
   "cell_type": "code",
   "execution_count": 14,
   "id": "1102ef67",
   "metadata": {},
   "outputs": [],
   "source": [
    "true_sum = get_summed_list(sorted_ts_dict)"
   ]
  },
  {
   "cell_type": "code",
   "execution_count": 15,
   "id": "168dd902",
   "metadata": {},
   "outputs": [
    {
     "data": {
      "image/png": "[encoded data removed]",
      "text/plain": [
       "<Figure size 1080x360 with 1 Axes>"
      ]
     },
     "metadata": {},
     "output_type": "display_data"
    }
   ],
   "source": [
    "plt.style.use('ggplot')\n",
    "fig, ax = plt.subplots(figsize=(15,5))\n",
    "\n",
    "bins = np.arange(min(perm_sums), max(perm_sums), 1)\n",
    "\n",
    "\n",
    "hist, edges = np.histogram(perm_sums, bins=bins)\n",
    "\n",
    "x = (edges[1:]+edges[:-1])/2\n",
    "width = bins[1] - bins[0]\n",
    "\n",
    "ax.bar(x, hist,color='darkblue', width=width*0.91, label='random graphs')\n",
    "ax.axvline(true_sum, label='true graph')\n",
    "\n",
    "ax.set_xlabel(\"no. burst edges\", fontsize=30)\n",
    "\n",
    "ax.set_ylabel(\"counts\", fontsize=30)\n",
    "\n",
    "ax.legend(fontsize=20, loc='upper right')\n",
    "plt.tight_layout()\n",
    "plt.savefig('edge_burst_detection.png')\n",
    "plt.show()"
   ]
  },
  {
   "cell_type": "code",
   "execution_count": 16,
   "id": "0c33b8d8",
   "metadata": {},
   "outputs": [],
   "source": [
    "def same_coms(dictionary):\n",
    "    G = nx.DiGraph()\n",
    "    G.add_nodes_from(df_comics['WikiLink'])\n",
    "    communities = []\n",
    "    community = set()\n",
    "    count = []\n",
    "    output = 0\n",
    "    for idx, (key, (source, targets)) in enumerate(dictionary.items()):\n",
    "        if idx == 0:\n",
    "            count.append(0)\n",
    "            prev_neighbors = list(G.neighbors(source))\n",
    "            prev_predecessors = list(G.predecessors(source))\n",
    "            continue\n",
    "        edges = [(source,i) for i in targets if i in G.nodes]\n",
    "        G.add_edges_from(edges)\n",
    "        \n",
    "        source_neighborhood = list(G.predecessors(source))+list(G.neighbors(source))+list(source)\n",
    "        \n",
    "        \n",
    "\n",
    "        if source in prev_neighbors or source in prev_predecessors:\n",
    "            if len(community.intersection(source_neighborhood)) == 0:\n",
    "                output += 1\n",
    "            count.append(output)\n",
    "            community.update(prev_neighbors+prev_predecessors)\n",
    "            community.update(source_neighborhood)\n",
    "            \n",
    "        else:\n",
    "            count.append(0)\n",
    "            community = set()\n",
    "        prev_predecessors = list(G.predecessors(source))\n",
    "        prev_neighbors = list(G.neighbors(source))\n",
    "    return count"
   ]
  },
  {
   "cell_type": "code",
   "execution_count": 31,
   "id": "0a309dbc",
   "metadata": {},
   "outputs": [
    {
     "data": {
      "image/png": "[encoded data removed]",
      "text/plain": [
       "<Figure size 1080x360 with 1 Axes>"
      ]
     },
     "metadata": {},
     "output_type": "display_data"
    }
   ],
   "source": [
    "plt.style.use('ggplot')\n",
    "fig, ax = plt.subplots(figsize=(15,5))\n",
    "plt.xlabel('Edges added to graph', fontsize=30)\n",
    "plt.ylabel('Burst change', fontsize = 30)\n",
    "plt.scatter(np.arange(len(sorted_ts_dict)), same_coms(sorted_ts_dict), marker='^', s=20)\n",
    "plt.tight_layout()\n",
    "plt.savefig('change_burst_detection.png')"
   ]
  },
  {
   "cell_type": "code",
   "execution_count": null,
   "id": "5d26dc7f",
   "metadata": {},
   "outputs": [],
   "source": []
  },
  {
   "cell_type": "code",
   "execution_count": null,
   "id": "e1ef9e3f",
   "metadata": {},
   "outputs": [],
   "source": []
  }
 ],
 "metadata": {
  "kernelspec": {
   "display_name": "Python 3",
   "language": "python",
   "name": "python3"
  },
  "language_info": {
   "codemirror_mode": {
    "name": "ipython",
    "version": 3
   },
   "file_extension": ".py",
   "mimetype": "text/x-python",
   "name": "python",
   "nbconvert_exporter": "python",
   "pygments_lexer": "ipython3",
   "version": "3.8.8"
  }
 },
 "nbformat": 4,
 "nbformat_minor": 5
}
