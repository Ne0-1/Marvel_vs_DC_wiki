{
 "cells": [
  {
   "cell_type": "code",
   "execution_count": 1,
   "metadata": {},
   "outputs": [],
   "source": [
    "import pickle\n",
    "import os\n",
    "import io\n",
    "import re\n",
    "import networkx as nx\n",
    "import netwulf as nw \n",
    "from tqdm import tqdm\n",
    "import numpy as np\n",
    "import pandas as pd\n",
    "import matplotlib.pyplot as plt\n",
    "import matplotlib as mpl"
   ]
  },
  {
   "cell_type": "code",
   "execution_count": 2,
   "metadata": {},
   "outputs": [],
   "source": [
    "def setup_mpl():\n",
    "    mpl.rcParams['font.family'] = 'Times New Roman'\n",
    "    mpl.rcParams['lines.linewidth'] = 2\n",
    "    return\n",
    "setup_mpl()"
   ]
  },
  {
   "cell_type": "code",
   "execution_count": 3,
   "metadata": {},
   "outputs": [],
   "source": [
    "import os"
   ]
  },
  {
   "cell_type": "code",
   "execution_count": 4,
   "metadata": {},
   "outputs": [],
   "source": [
    "df_marvel = pd.read_csv(\"../files/marvel.csv\", index_col=0, encoding='utf8')\n",
    "df_marvel = df_marvel[df_marvel[\"WikiLink\"].notna()]\n",
    "df_dc = pd.read_csv(\"../files/dc.csv\", index_col=0, encoding='utf8')\n",
    "df_dc = df_dc[df_dc[\"WikiLink\"].notna()]\n",
    "df_marvel['universe'] = 'Marvel'\n",
    "df_dc['universe'] = 'DC'\n",
    "df = pd.concat([df_marvel, df_dc], ignore_index=True, axis=0)\n",
    "edgelist = pd.read_csv(\"../corrected_edgelist.csv\")\n",
    "edgelist = edgelist.drop_duplicates(ignore_index=True)"
   ]
  },
  {
   "cell_type": "code",
   "execution_count": 5,
   "metadata": {},
   "outputs": [],
   "source": [
    "def ensemble_louvain(graph, N, k, threshold = 0.9):\n",
    "    ''' The same algorithm is used with Infomap later!\n",
    "    1) run several trials of Louvain on the same network,\n",
    "    2) built a new network where a pair of the original nodes is linked if their total co-membership across all the Louvain trials is above a given threshold (e.g., 90%),\n",
    "    3) identify the disjoints sets which represent the resulting communities.'''\n",
    "    from community import community_louvain \n",
    "    import random\n",
    "    from collections import Counter\n",
    "    from collections import defaultdict\n",
    "    import string\n",
    "    from itertools import combinations\n",
    "    from tqdm import tqdm\n",
    "    \n",
    "    #step 1\n",
    "    tot_communities = []\n",
    "    for iter_ in tqdm(range(N), disable=True):\n",
    "        \n",
    "        partition = community_louvain.best_partition(graph)\n",
    "        tot_communities.append(partition)\n",
    "    \n",
    "    #step 2\n",
    "    G_new = nx.Graph() #Don't think this has to be directed\n",
    "    node_pairs = combinations(list(graph.nodes), 2)\n",
    "    for (u,v) in tqdm(node_pairs, disable=True):\n",
    "        co_occurence = 0\n",
    "        for partitions in tot_communities:\n",
    "            if partitions[u] == partitions[v]: \n",
    "                co_occurence += 1\n",
    "        if co_occurence/N > threshold:\n",
    "            G_new.add_edge(u, v)\n",
    "        \n",
    "        \n",
    "    #step 3\n",
    "    k_greatest_components = {i: list(community) for i, community in enumerate(sorted(nx.connected_components(G_new), key=len, reverse=True)[:k])}\n",
    "    \n",
    "    \n",
    "    return k_greatest_components"
   ]
  },
  {
   "cell_type": "code",
   "execution_count": 6,
   "metadata": {},
   "outputs": [],
   "source": [
    "graphs = {}\n",
    "for key in np.arange(2001,2023,1):\n",
    "    graphs[key] = nx.read_gml(f'../graphs/DG_{key}')"
   ]
  },
  {
   "cell_type": "code",
   "execution_count": 7,
   "metadata": {},
   "outputs": [],
   "source": [
    "import matplotlib.cm as cm\n",
    "import networkx as nx\n",
    "\n",
    "G = graphs[2022].copy().to_undirected()\n",
    "\n",
    "# split into marvel and DC\n",
    "marvel = []\n",
    "dc = []\n",
    "for key, value in nx.get_node_attributes(G,'Universe').items():\n",
    "    if value == 'Marvel':\n",
    "        marvel.append(key)\n",
    "    elif value == 'DC':\n",
    "        dc.append(key)\n",
    "\n",
    "G_marvel = G.subgraph(marvel)\n",
    "G_dc = G.subgraph(dc)\n",
    "\n",
    "#Keep only largest component\n",
    "G_marvel = G_marvel.subgraph(sorted(nx.connected_components(G_marvel), key=len, reverse=True)[0])\n",
    "G_dc = G_dc.subgraph(sorted(nx.connected_components(G_dc), key=len, reverse=True)[0])\n",
    "\n",
    "# compute the best partition\n",
    "k = 10 #N communities in each subgraph!\n",
    "partition_marvel = ensemble_louvain(G_marvel,100,k)\n",
    "partition_marvel = {value[i]: key for key, value in partition_marvel.items() for i in range(len(value))}\n",
    "partition_dc = ensemble_louvain(G_dc,100,k)\n",
    "partition_dc = {value[i]: key for key, value in partition_dc.items() for i in range(len(value))}\n",
    "n_marvel_communities = np.unique(list(partition_marvel.values()))\n",
    "n_dc_communities = np.unique(list(partition_dc.values()))\n",
    "\n",
    "\n",
    "dc_pss = {}\n",
    "marvel_pss = {}\n",
    "for key in graphs.keys():\n",
    "    dc_ps = []\n",
    "    marvel_ps = []\n",
    "    for node in graphs[key].nodes():\n",
    "        try:\n",
    "            graphs[key-1].nodes()[node]\n",
    "            continue\n",
    "        except:\n",
    "            pass\n",
    "        try:\n",
    "            p_number_marvel = partition_marvel[node]\n",
    "            marvel_ps.append(p_number_marvel)\n",
    "        except:\n",
    "            try:\n",
    "                p_number_dc = partition_dc[node]\n",
    "                dc_ps.append(p_number_dc)\n",
    "            except:\n",
    "                continue\n",
    "    dc_pss[key] = dc_ps\n",
    "    marvel_pss[key] = marvel_ps\n",
    "\n",
    "from collections import Counter\n",
    "\n",
    "dc_counts = {}\n",
    "for key, value in dc_pss.items():\n",
    "    dc_counts[key] = Counter(value)\n",
    "marvel_counts = {}\n",
    "for key, value in marvel_pss.items():\n",
    "    marvel_counts[key] = Counter(value)"
   ]
  },
  {
   "cell_type": "code",
   "execution_count": 8,
   "metadata": {},
   "outputs": [],
   "source": [
    "#number of communities shown\n",
    "n_communities=k*2"
   ]
  },
  {
   "cell_type": "code",
   "execution_count": 9,
   "metadata": {},
   "outputs": [],
   "source": [
    "partition_matrix = np.zeros((n_communities,22))\n",
    "count = 0\n",
    "for key, value in dc_counts.items():\n",
    "    for key2, value2 in value.items():\n",
    "        partition_matrix[key2+k,count] = value2\n",
    "    count += 1\n",
    "count = 0\n",
    "for key, value in marvel_counts.items():\n",
    "    for key2, value2 in value.items():\n",
    "        partition_matrix[key2,count] = value2\n",
    "    count += 1"
   ]
  },
  {
   "cell_type": "code",
   "execution_count": 10,
   "metadata": {},
   "outputs": [
    {
     "data": {
      "text/plain": [
       "(10, 22)"
      ]
     },
     "execution_count": 10,
     "metadata": {},
     "output_type": "execute_result"
    }
   ],
   "source": [
    "marvel = partition_matrix[:k, :]\n",
    "marvel.shape"
   ]
  },
  {
   "cell_type": "code",
   "execution_count": 11,
   "metadata": {},
   "outputs": [
    {
     "data": {
      "text/plain": [
       "(10, 22)"
      ]
     },
     "execution_count": 11,
     "metadata": {},
     "output_type": "execute_result"
    }
   ],
   "source": [
    "DC = partition_matrix[k:, :]\n",
    "DC.shape"
   ]
  },
  {
   "cell_type": "code",
   "execution_count": 12,
   "metadata": {},
   "outputs": [],
   "source": [
    "import matplotlib.gridspec as grid_spec\n",
    "from matplotlib.pyplot import cm\n",
    "from tqdm.notebook import tqdm\n",
    "\n",
    "def ridge_plot(df, categories, group, y, title, step=1, hspace=0.5, agg=False, figsize=(20,10),\n",
    "              cumulative=False):\n",
    "    #determing xlim and ylim\n",
    "    xmax = df[y].values.max()\n",
    "    \n",
    "    temp = df[y].values\n",
    "    \n",
    "    if agg:\n",
    "        step = max(int(len(np.unique(temp))/20), 1)\n",
    "\n",
    "    bins = np.arange(min(temp), max(temp), step)\n",
    "    hist, edges = np.histogram(temp, bins=bins, density=True)\n",
    "    ymax = np.histogram(temp, bins=bins, density=True)[0].max()\n",
    "    \n",
    "    n = len(categories)\n",
    "    #cmap = cm.set2(np.linspace(0, 1, 2))\n",
    "    colors = cm.rainbow(np.linspace(0, 1, n))\n",
    "    gs = grid_spec.GridSpec(n,1)\n",
    "    fig = plt.figure(figsize=figsize, dpi=100)\n",
    "    ax_objs = []\n",
    "\n",
    "    \n",
    "    for i, category in tqdm(enumerate(categories)):\n",
    "        temp_corpus = df[df[group]==category]\n",
    "        metric = list(temp_corpus[y].values)\n",
    "        \n",
    "            \n",
    "        if agg:\n",
    "            step = max(int(len(np.unique(metric))/20), 1)\n",
    "        \n",
    "        bins = np.arange(min(metric), max(metric), step)\n",
    "        hist, edges = np.histogram(metric, bins=bins, density=True)\n",
    "        x = (edges[1:] + edges[:-1])/2\n",
    "        width = bins[1]-bins[0]\n",
    "\n",
    "        # creating new axes object\n",
    "        ax_objs.append(fig.add_subplot(gs[i:i+1, 0:]))\n",
    "\n",
    "        # plotting the distribution\n",
    "        if cumulative:\n",
    "            hist = np.cumsum(hist)\n",
    "            ax_objs[-1].bar(x, hist, width=width*0.90, color=colors[i], alpha=0.95)\n",
    "            #ax_objs[-1].plot(x, hist, color=colors[i], alpha=0.95)\n",
    "            #ax_objs[-1].hist(metric, bins, density=True,\n",
    "            #               cumulative=True, histtype='step', color=colors[i], alpha=0.80)\n",
    "        else:\n",
    "            ax_objs[-1].bar(x, hist, width=width*0.90, color=colors[i], alpha=0.95)\n",
    "        #Might be an issue here\n",
    "        # setting uniform x and y lims\n",
    "        ax_objs[-1].set_xlim(0,xmax)\n",
    "        ax_objs[-1].set_ylim(0,ymax + 1e-2)\n",
    "\n",
    "        # make background transparent\n",
    "        rect = ax_objs[-1].patch\n",
    "        rect.set_alpha(0)\n",
    "\n",
    "        # remove borders, axis ticks, and labels\n",
    "        ax_objs[-1].set_yticklabels([])\n",
    "\n",
    "        # remove xticks labels\n",
    "        if i != len(categories) - 1:\n",
    "            ax_objs[-1].set_xticklabels([])\n",
    "        else:\n",
    "            ax_objs[-1].set_xlabel(f'{y}')\n",
    "\n",
    "        # remove xticks\n",
    "        ax_objs[-1].tick_params(axis=u'both', which=u'both',length=0)\n",
    "\n",
    "        spines = [\"top\",\"right\",\"left\",\"bottom\"]\n",
    "        for s in spines:\n",
    "            ax_objs[-1].spines[s].set_visible(False)\n",
    "\n",
    "        ax_objs[-1].text(-0.10,0.0, category,fontweight=\"bold\",fontsize=14,ha=\"right\")\n",
    "\n",
    "\n",
    "\n",
    "    gs.update(hspace=-hspace)\n",
    "\n",
    "    fig.text(0.07,0.90, title,fontsize=20)\n",
    "    \n",
    "    #plt.savefig('ridgeplot_test.png')\n",
    "    #plt.savefig('ridgeplot_test.png',bbox_inches='tight')\n",
    "    plt.show()\n",
    "    return None"
   ]
  },
  {
   "cell_type": "code",
   "execution_count": 13,
   "metadata": {},
   "outputs": [],
   "source": [
    "values = partition_matrix.flatten()"
   ]
  },
  {
   "cell_type": "code",
   "execution_count": 14,
   "metadata": {},
   "outputs": [],
   "source": [
    "universe = ['Marvel' if i < values.shape[0]/2 else 'DC' for i in range(values.shape[0])]\n",
    "unique_years = [2001 + i for i in range(2023-2001)]\n",
    "years = [item for sublist in [[year]*10 for year in unique_years] for item in sublist]\n",
    "years.extend(years)\n",
    "communities = []\n",
    "for _ in range(len(unique_years)):\n",
    "    communities.append([i for i in range(1,11)])\n",
    "communities = [item for sublist in communities for item in sublist]\n",
    "communities.extend(communities)"
   ]
  },
  {
   "cell_type": "code",
   "execution_count": 15,
   "metadata": {},
   "outputs": [
    {
     "data": {
      "text/plain": [
       "((440,), 440, 440, 440)"
      ]
     },
     "execution_count": 15,
     "metadata": {},
     "output_type": "execute_result"
    }
   ],
   "source": [
    "values.shape, len(universe), len(years), len(communities)"
   ]
  },
  {
   "cell_type": "code",
   "execution_count": 16,
   "metadata": {},
   "outputs": [],
   "source": [
    "burst_df = pd.DataFrame({'value':values, 'Universe':universe, 'year':years, 'communities':communities})"
   ]
  },
  {
   "cell_type": "code",
   "execution_count": 17,
   "metadata": {},
   "outputs": [
    {
     "data": {
      "text/html": [
       "<div>\n",
       "<style scoped>\n",
       "    .dataframe tbody tr th:only-of-type {\n",
       "        vertical-align: middle;\n",
       "    }\n",
       "\n",
       "    .dataframe tbody tr th {\n",
       "        vertical-align: top;\n",
       "    }\n",
       "\n",
       "    .dataframe thead th {\n",
       "        text-align: right;\n",
       "    }\n",
       "</style>\n",
       "<table border=\"1\" class=\"dataframe\">\n",
       "  <thead>\n",
       "    <tr style=\"text-align: right;\">\n",
       "      <th></th>\n",
       "      <th>value</th>\n",
       "      <th>Universe</th>\n",
       "      <th>year</th>\n",
       "      <th>communities</th>\n",
       "    </tr>\n",
       "  </thead>\n",
       "  <tbody>\n",
       "    <tr>\n",
       "      <th>0</th>\n",
       "      <td>0.0</td>\n",
       "      <td>Marvel</td>\n",
       "      <td>2001</td>\n",
       "      <td>1</td>\n",
       "    </tr>\n",
       "    <tr>\n",
       "      <th>1</th>\n",
       "      <td>6.0</td>\n",
       "      <td>Marvel</td>\n",
       "      <td>2001</td>\n",
       "      <td>2</td>\n",
       "    </tr>\n",
       "    <tr>\n",
       "      <th>2</th>\n",
       "      <td>42.0</td>\n",
       "      <td>Marvel</td>\n",
       "      <td>2001</td>\n",
       "      <td>3</td>\n",
       "    </tr>\n",
       "    <tr>\n",
       "      <th>3</th>\n",
       "      <td>50.0</td>\n",
       "      <td>Marvel</td>\n",
       "      <td>2001</td>\n",
       "      <td>4</td>\n",
       "    </tr>\n",
       "    <tr>\n",
       "      <th>4</th>\n",
       "      <td>80.0</td>\n",
       "      <td>Marvel</td>\n",
       "      <td>2001</td>\n",
       "      <td>5</td>\n",
       "    </tr>\n",
       "    <tr>\n",
       "      <th>...</th>\n",
       "      <td>...</td>\n",
       "      <td>...</td>\n",
       "      <td>...</td>\n",
       "      <td>...</td>\n",
       "    </tr>\n",
       "    <tr>\n",
       "      <th>435</th>\n",
       "      <td>0.0</td>\n",
       "      <td>DC</td>\n",
       "      <td>2022</td>\n",
       "      <td>6</td>\n",
       "    </tr>\n",
       "    <tr>\n",
       "      <th>436</th>\n",
       "      <td>0.0</td>\n",
       "      <td>DC</td>\n",
       "      <td>2022</td>\n",
       "      <td>7</td>\n",
       "    </tr>\n",
       "    <tr>\n",
       "      <th>437</th>\n",
       "      <td>0.0</td>\n",
       "      <td>DC</td>\n",
       "      <td>2022</td>\n",
       "      <td>8</td>\n",
       "    </tr>\n",
       "    <tr>\n",
       "      <th>438</th>\n",
       "      <td>0.0</td>\n",
       "      <td>DC</td>\n",
       "      <td>2022</td>\n",
       "      <td>9</td>\n",
       "    </tr>\n",
       "    <tr>\n",
       "      <th>439</th>\n",
       "      <td>0.0</td>\n",
       "      <td>DC</td>\n",
       "      <td>2022</td>\n",
       "      <td>10</td>\n",
       "    </tr>\n",
       "  </tbody>\n",
       "</table>\n",
       "<p>440 rows × 4 columns</p>\n",
       "</div>"
      ],
      "text/plain": [
       "     value Universe  year  communities\n",
       "0      0.0   Marvel  2001            1\n",
       "1      6.0   Marvel  2001            2\n",
       "2     42.0   Marvel  2001            3\n",
       "3     50.0   Marvel  2001            4\n",
       "4     80.0   Marvel  2001            5\n",
       "..     ...      ...   ...          ...\n",
       "435    0.0       DC  2022            6\n",
       "436    0.0       DC  2022            7\n",
       "437    0.0       DC  2022            8\n",
       "438    0.0       DC  2022            9\n",
       "439    0.0       DC  2022           10\n",
       "\n",
       "[440 rows x 4 columns]"
      ]
     },
     "execution_count": 17,
     "metadata": {},
     "output_type": "execute_result"
    }
   ],
   "source": [
    "burst_df"
   ]
  },
  {
   "cell_type": "code",
   "execution_count": 18,
   "metadata": {},
   "outputs": [
    {
     "data": {
      "application/vnd.jupyter.widget-view+json": {
       "model_id": "7ef933e40468484ba277a579483289ca",
       "version_major": 2,
       "version_minor": 0
      },
      "text/plain": [
       "0it [00:00, ?it/s]"
      ]
     },
     "metadata": {},
     "output_type": "display_data"
    },
    {
     "data": {
      "application/vnd.jupyter.widget-view+json": {
       "model_id": "df40a6e266674b0d826a004c78954040",
       "version_major": 2,
       "version_minor": 0
      },
      "text/plain": [
       "0it [00:00, ?it/s]"
      ]
     },
     "metadata": {},
     "output_type": "display_data"
    },
    {
     "data": {
      "image/png": "[encoded data removed]",
      "text/plain": [
       "<Figure size 3000x1500 with 20 Axes>"
      ]
     },
     "metadata": {
      "needs_background": "light"
     },
     "output_type": "display_data"
    }
   ],
   "source": [
    "\n",
    "title = \"Naive burst detection\"\n",
    "step=1\n",
    "hspace=0.3\n",
    "agg=False\n",
    "figsize=(30,15)\n",
    "cumulative=False\n",
    "\n",
    "categories = burst_df.communities.sort_values().unique()\n",
    "group = 'communities'\n",
    "\n",
    "y = 'value'\n",
    "df = burst_df\n",
    "\n",
    "\n",
    "temp = df[y].values\n",
    "\n",
    "if agg:\n",
    "    step = max(int(len(np.unique(temp))/20), 1)\n",
    "\n",
    "bins = np.arange(min(temp), max(temp), step)\n",
    "hist, edges = np.histogram(temp, bins=bins, density=True)\n",
    "ymax = np.histogram(temp, bins=bins, density=True)[0].max()\n",
    "\n",
    "n = len(categories)\n",
    "#cmap = cm.set2(np.linspace(0, 1, 2))\n",
    "colors = cm.rainbow(np.linspace(0, 1, n))\n",
    "fig = plt.figure(figsize=figsize, dpi=100)\n",
    "gs = grid_spec.GridSpec(n,2)\n",
    "ax_objs = []\n",
    "\n",
    "\n",
    "for j, universe in enumerate(['Marvel', 'DC']):\n",
    "    for i, category in tqdm(enumerate(categories)):\n",
    "        mask = ((df[group]==category) & (df['Universe']==universe))\n",
    "        temp_corpus = df[mask]\n",
    "        metric = list(temp_corpus[y].values)\n",
    "        years = list(temp_corpus['year'].values)\n",
    "        \n",
    "        # creating new axes object\n",
    "        ax_objs.append(fig.add_subplot(gs[i:i+1, j:j+1]))\n",
    "        # plotting the distribution\n",
    "        if cumulative:\n",
    "            hist = np.cumsum(hist)\n",
    "            ax_objs[-1].bar(years, metric, color=colors[i], alpha=0.95)\n",
    "            #ax_objs[-1].plot(x, hist, color=colors[i], alpha=0.95)\n",
    "            #ax_objs[-1].hist(metric, bins, density=True,\n",
    "            #               cumulative=True, histtype='step', color=colors[i], alpha=0.80)\n",
    "        else:\n",
    "            ax_objs[-1].bar(years, metric, width=1, color=colors[i], alpha=0.95)\n",
    "        #Might be an issue here\n",
    "        # setting uniform x and y lims\n",
    "        ax_objs[-1].set_xlim(2001, 2022)\n",
    "        ax_objs[-1].set_ylim(0, 200)\n",
    "\n",
    "        # make background transparent\n",
    "        rect = ax_objs[-1].patch\n",
    "        rect.set_alpha(0)\n",
    "\n",
    "        # remove borders, axis ticks, and labels\n",
    "        ax_objs[-1].set_yticklabels([])\n",
    "\n",
    "        # remove xticks labels\n",
    "        if i != len(categories) - 1:\n",
    "            ax_objs[-1].set_xticklabels([])\n",
    "        else:\n",
    "            ax_objs[-1].set_xlabel('year')\n",
    "            ax_objs[-1].set_xticks(unique_years)\n",
    "        if i == 0:\n",
    "            ax_objs[-1].set_title(f'{universe}', fontsize=20)\n",
    "        # remove xticks\n",
    "        ax_objs[-1].tick_params(axis=u'both', which=u'both',length=0)\n",
    "\n",
    "        spines = [\"top\",\"right\",\"left\",\"bottom\"]\n",
    "        for s in spines:\n",
    "            ax_objs[-1].spines[s].set_visible(False)\n",
    "\n",
    "        if i == 0:\n",
    "            ax_objs[-1].spines['top'].set_visible(True)\n",
    "\n",
    "\n",
    "        if universe == 'Marvel':\n",
    "            ax_objs[-1].text(2000, 0.0, f'Community: {category}', fontweight=\"bold\",fontsize=14,ha=\"right\")\n",
    "\n",
    "\n",
    "gs.update(hspace=-hspace)\n",
    "\n",
    "fig.text(0.07,0.90, title,fontsize=40)\n",
    "\n",
    "#plt.savefig('ridgeplot_test.png')\n",
    "#plt.savefig('ridgeplot_test.png',bbox_inches='tight')\n",
    "plt.show()"
   ]
  },
  {
   "cell_type": "markdown",
   "metadata": {},
   "source": [
    "Using kernel density for ridge plots"
   ]
  },
  {
   "cell_type": "code",
   "execution_count": 19,
   "metadata": {},
   "outputs": [],
   "source": [
    "from sklearn.neighbors import KernelDensity\n",
    "import seaborn as sns\n",
    "from scipy.stats import gaussian_kde"
   ]
  },
  {
   "cell_type": "code",
   "execution_count": 47,
   "metadata": {},
   "outputs": [
    {
     "data": {
      "application/vnd.jupyter.widget-view+json": {
       "model_id": "6712d1add9ef4aa39a85b7ea53f624f0",
       "version_major": 2,
       "version_minor": 0
      },
      "text/plain": [
       "0it [00:00, ?it/s]"
      ]
     },
     "metadata": {},
     "output_type": "display_data"
    },
    {
     "data": {
      "application/vnd.jupyter.widget-view+json": {
       "model_id": "69a95f77304d4876b535b10f989f222c",
       "version_major": 2,
       "version_minor": 0
      },
      "text/plain": [
       "0it [00:00, ?it/s]"
      ]
     },
     "metadata": {},
     "output_type": "display_data"
    },
    {
     "data": {
      "image/png": "[encoded data removed]",
      "text/plain": [
       "<Figure size 3000x1500 with 20 Axes>"
      ]
     },
     "metadata": {
      "needs_background": "light"
     },
     "output_type": "display_data"
    }
   ],
   "source": [
    "title = \"Naive Burst Detection\"\n",
    "step=1\n",
    "hspace=0.5\n",
    "agg=False\n",
    "figsize=(30,15)\n",
    "cumulative=False\n",
    "\n",
    "categories = burst_df.communities.sort_values().unique()\n",
    "group = 'communities'\n",
    "\n",
    "y = 'value'\n",
    "df = burst_df\n",
    "\n",
    "\n",
    "temp = df[y].values\n",
    "\n",
    "#if agg:\n",
    "#    step = max(int(len(np.unique(temp))/20), 1)\n",
    "\n",
    "#bins = np.arange(min(temp), max(temp), step)\n",
    "#hist, edges = np.histogram(temp, bins=bins, density=True)\n",
    "#ymax = np.histogram(temp, bins=bins, density=True)[0].max()\n",
    "\n",
    "n = len(categories)\n",
    "#cmap = cm.set2(np.linspace(0, 1, 2))\n",
    "colors = [cm.plasma(np.linspace(0, 1, n)), cm.viridis(np.linspace(0, 1, n))]\n",
    "fig = plt.figure(figsize=figsize, dpi=100)\n",
    "gs = grid_spec.GridSpec(n,2)\n",
    "ax_objs = []\n",
    "\n",
    "\n",
    "for j, universe in enumerate(['Marvel', 'DC']):\n",
    "    for i, category in tqdm(enumerate(categories)):\n",
    "        mask = ((df[group]==category) & (df['Universe']==universe))\n",
    "        temp_corpus = df[mask]\n",
    "        metric = list(temp_corpus[y].values)\n",
    "        years = list(temp_corpus['year'].values)\n",
    "        \n",
    "        # creating new axes object\n",
    "        ax_objs.append(fig.add_subplot(gs[i:i+1, j:j+1]))\n",
    "        # plotting the distribution\n",
    "        if cumulative:\n",
    "            hist = np.cumsum(hist)\n",
    "            ax_objs[-1].bar(years, metric, color=colors[j][i], alpha=0.95)\n",
    "            #ax_objs[-1].plot(x, hist, color=colors[i], alpha=0.95)\n",
    "            #ax_objs[-1].hist(metric, bins, density=True,\n",
    "            #               cumulative=True, histtype='step', color=colors[i], alpha=0.80)\n",
    "        else:\n",
    "            #ax_objs[-1].bar(years, metric, width=1, color=colors[i], alpha=0.95)\n",
    "            N = 3\n",
    "            L_point_MA = np.convolve(metric, np.ones(N)/N, mode='same')\n",
    "            ax_objs[-1].plot(years, L_point_MA, color=colors[j][i])\n",
    "            ax_objs[-1].fill_between(years, L_point_MA, alpha=0.95,color=colors[j][i])\n",
    "            #ax_objs[-1] = sns.kdeplot(np.array(metric), color=colors[i], fill=True)\n",
    "            \n",
    "            #Kernel desnsity estimate\n",
    "            #density = gaussian_kde(metric)\n",
    "            #xs =  np.linspace(1,23,00) #np.array(unique_years)\n",
    "            #xs = np.array(unique_years)\n",
    "            #density.covariance_factor = lambda : .25\n",
    "            #density._compute_covariance()\n",
    "            #ax_objs[-1].plot(xs,density(xs), color=colors[i])\n",
    "            #ax_objs[-1].fill_between(xs, density(xs), alpha=1,color=colors[i])\n",
    "\n",
    "            #x_d = np.linspace(1,23, 100)\n",
    "\n",
    "            #kde = KernelDensity(bandwidth=0.03, kernel='gaussian')\n",
    "            #kde.fit(np.array(metric).reshape(-1, 1))\n",
    "\n",
    "            #logprob = kde.score_samples(x_d[:, None])\n",
    "\n",
    "            # creating new axes object\n",
    "            #ax_objs.append(fig.add_subplot(gs[i:i+1, 0:]))\n",
    "\n",
    "            # plotting the distribution\n",
    "            #ax_objs[-1].plot(x_d, np.exp(logprob),color=\"#f0f0f0\",lw=1)\n",
    "            #ax_objs[-1].fill_between(x_d, np.exp(logprob), alpha=1,color=colors[i])\n",
    "        #Might be an issue here\n",
    "        # setting uniform x and y lims\n",
    "        ax_objs[-1].set_xlim(2001, 2022)\n",
    "        #ax_objs[-1].set_ylim(0, 200)\n",
    "\n",
    "        # make background transparent\n",
    "        rect = ax_objs[-1].patch\n",
    "        rect.set_alpha(0)\n",
    "\n",
    "        # remove borders, axis ticks, and labels\n",
    "        ax_objs[-1].set_yticklabels([])\n",
    "\n",
    "        # remove xticks labels\n",
    "        if i != len(categories) - 1:\n",
    "            ax_objs[-1].set_xticklabels([])\n",
    "        else:\n",
    "            #ax_objs[-1].set_xlabel('year')\n",
    "            ax_objs[-1].set_xticks(unique_years)\n",
    "            ax_objs[-1].tick_params(axis='both', which='major', labelsize=20, rotation=45)\n",
    "        if i == 0:\n",
    "            ax_objs[-1].set_title(f'{universe}', fontsize=30)\n",
    "        # remove xticks\n",
    "        ax_objs[-1].tick_params(axis=u'both', which=u'both',length=0)\n",
    "\n",
    "        spines = [\"top\",\"right\",\"left\",\"bottom\"]\n",
    "        for s in spines:\n",
    "            ax_objs[-1].spines[s].set_visible(False)\n",
    "\n",
    "        if i == 0:\n",
    "            ax_objs[-1].spines['top'].set_visible(True)\n",
    "\n",
    "\n",
    "        if universe == 'Marvel':\n",
    "            ax_objs[-1].text(2000.5, 0.0, f'Community: {category}', fontweight=\"bold\",fontsize=20,ha=\"right\")\n",
    "\n",
    "\n",
    "gs.update(hspace=-hspace)\n",
    "\n",
    "#fig.text(0.07,0.90, title,fontsize=40)\n",
    "\n",
    "#plt.savefig('ridgeplot_test.png')\n",
    "plt.savefig('ridgeplot_naive_burst.png',bbox_inches='tight')\n",
    "plt.show()"
   ]
  },
  {
   "cell_type": "markdown",
   "metadata": {},
   "source": [
    "It seems that the kernel estimate only notice the initial period of the network evolution where the number of revisions experience cubic growth. Let us try to exclude this part and examine the rest of the network evolution:"
   ]
  },
  {
   "cell_type": "markdown",
   "metadata": {},
   "source": [
    "# Evolving communities"
   ]
  },
  {
   "cell_type": "code",
   "execution_count": 49,
   "metadata": {},
   "outputs": [],
   "source": [
    "import random\n",
    "import plotly.express as px\n",
    "from infomap import Infomap\n",
    "import plotly.graph_objects as go\n",
    "from collections import Counter\n",
    "from collections import defaultdict\n",
    "import string\n",
    "import networkx as nx\n",
    "import numpy as np\n",
    "from tqdm import tqdm\n",
    "from itertools import combinations\n",
    "import os\n",
    "import pandas as pd"
   ]
  },
  {
   "cell_type": "code",
   "execution_count": 50,
   "metadata": {},
   "outputs": [],
   "source": [
    "\n",
    "#Getting data\n",
    "df_marvel = pd.read_csv(\"../files/marvel.csv\", index_col=0, encoding='utf8')\n",
    "df_marvel = df_marvel[df_marvel[\"WikiLink\"].notna()]\n",
    "df_dc = pd.read_csv(\"../files/dc.csv\", index_col=0, encoding='utf8')\n",
    "df_dc = df_dc[df_dc[\"WikiLink\"].notna()]\n",
    "df_marvel['universe'] = 'Marvel'\n",
    "df_dc['universe'] = 'DC'\n",
    "df = pd.concat([df_marvel, df_dc], ignore_index=True, axis=0)\n",
    "\n",
    "edgelist = pd.read_csv(\"../corrected_edgelist.csv\")\n",
    "temp = pd.merge(edgelist, df, left_on='source', right_on='WikiLink')\n",
    "temp = temp.rename(columns={\"universe\":\"source universe\"})\n",
    "temp = temp.drop(columns=['CharacterName', 'WikiLink'])\n",
    "temp = pd.merge(temp, df, left_on='target', right_on='WikiLink')\n",
    "temp = temp.rename(columns={\"universe\":\"target universe\"})\n",
    "temp = temp.drop(columns=['CharacterName', 'WikiLink'])\n",
    "expanded_edgelist = temp.copy()"
   ]
  },
  {
   "cell_type": "code",
   "execution_count": 52,
   "metadata": {},
   "outputs": [],
   "source": [
    "def ensemble_infomap(graph, N, k=None, threshold = 0.9, verbose=False, seed=0):\n",
    "    '''\n",
    "    1) run several trials of Infomap on the same network,\n",
    "    2) built a new network where a pair of the original nodes is linked if their total co-membership across all the Louvain trials is above a given threshold (e.g., 90%),\n",
    "    3) identify the disjoints sets which represent the resulting communities.'''\n",
    "    \n",
    "    #preperation\n",
    "    graph = nx.convert_node_labels_to_integers(graph, label_attribute=\"org_name\")\n",
    "    names = nx.get_node_attributes(graph, \"org_name\")\n",
    "    \n",
    "    #step 1\n",
    "    tot_communities = []\n",
    "    for iter_ in tqdm(range(N), disable=not verbose):\n",
    "        \n",
    "        im = Infomap(directed=True, silent=not verbose, seed=seed+iter_) #Using new seed\n",
    "        for edge in graph.edges():\n",
    "            im.addLink(*edge)\n",
    "        im.run()\n",
    "        communities = {}\n",
    "        for node in im.tree:\n",
    "            if node.is_leaf:\n",
    "                communities[names[node.node_id]] = node.module_id\n",
    "        tot_communities.append(communities)\n",
    "    \n",
    "    #preperation\n",
    "    graph = nx.relabel_nodes(graph, names)\n",
    "    \n",
    "    #step 2\n",
    "    G_new = nx.Graph()\n",
    "    G_new.add_nodes_from(list(graph.nodes))\n",
    "    node_pairs = combinations(list(graph.nodes), 2)\n",
    "    for (u,v) in tqdm(node_pairs, disable=not verbose):\n",
    "        co_occurence = 0\n",
    "        for partitions in tot_communities:\n",
    "            if partitions[u] == partitions[v]: \n",
    "                co_occurence += 1\n",
    "        if co_occurence/N > threshold:\n",
    "            G_new.add_edge(u, v)\n",
    "        \n",
    "        \n",
    "    #step 3\n",
    "    if k == None:\n",
    "        k = nx.number_connected_components(G_new)\n",
    "    connected_components = sorted(nx.connected_components(G_new), key=len, reverse=True)\n",
    "    k_greatest_components = {i: list(community) for i, community in enumerate(connected_components[:k])}\n",
    "    remaining_nodes = [node for sublist in [list(community) for community in connected_components[k:]] for node in sublist]\n",
    "    k_greatest_components.update({i+1: remaining_nodes})\n",
    "    \n",
    "    return k_greatest_components\n"
   ]
  },
  {
   "cell_type": "code",
   "execution_count": 72,
   "metadata": {},
   "outputs": [],
   "source": [
    "def sankey(t0, tN, edgelist, k, N, threshold, verbose=False):\n",
    "\n",
    "    #Creating networkx graph objects for each year\n",
    "    networks = []\n",
    "    tot_communities = []\n",
    "    number_communities = {}\n",
    "    for year in [t0 + i for i in range(tN-t0 + 1)]:\n",
    "        edgelist_temp = edgelist[edgelist.timestamp==year]\n",
    "        attrs_temp = {row.source: {'group': row['source universe']} for idx, row in edgelist_temp.iterrows()}\n",
    "        G_temp = nx.from_pandas_edgelist(edgelist_temp, create_using = nx.DiGraph)\n",
    "\n",
    "        #Adding attributes\n",
    "        nx.set_node_attributes(G_temp, attrs_temp)\n",
    "        \n",
    "        #Fixing issue with nodes missing universe data\n",
    "        missing_attrs = {row.target: {'group': row['target universe']}for idx, row in edgelist_temp[edgelist_temp['target'].isin([u for u,v in G_temp.nodes(data=True) if not v])].iterrows()}\n",
    "        nx.set_node_attributes(G_temp, missing_attrs)\n",
    "\n",
    "\n",
    "        #Removing singleton nodes\n",
    "        G_temp.remove_nodes_from(list(nx.isolates(G_temp)))\n",
    "        \n",
    "        #Calling ensemble infomap to compute communities\n",
    "        communities = ensemble_infomap(graph=G_temp, N=N, k=k, threshold=threshold, verbose=verbose)\n",
    "        number_communities[year] = len(list(communities.keys()))\n",
    "        tot_communities.append(communities)\n",
    "        \n",
    "    edges = []\n",
    "    plot_names = []\n",
    "    for idx, (com_t0, com_tN) in enumerate(zip(tot_communities, tot_communities[1:])):\n",
    "        \n",
    "        if idx == 0:\n",
    "            prev_max = 0\n",
    "        \n",
    "        idx_map_t0 = dict(zip(list(com_t0.keys()),\n",
    "                           [i for i in range(prev_max, prev_max + len(list(com_t0.keys()))+1)]))\n",
    "        #updating idx for next iter\n",
    "        prev_max = max(idx_map_t0.values())+ 1\n",
    "\n",
    "        idx_map_tN = dict(zip(list(com_tN.keys()),\n",
    "                           [i for i in range(prev_max, prev_max + len(com_tN.keys())+1)]))\n",
    "        \n",
    "        for u,v in com_t0.items(): #t0\n",
    "            for node in v:\n",
    "                for i,j in com_tN.items(): #tN\n",
    "                    if node in j:\n",
    "                        edges.append((idx_map_t0[u],idx_map_tN[i]))\n",
    "\n",
    "                        break\n",
    "\n",
    "        plot_names.append(list(idx_map_t0.values()))\n",
    "    plot_names.append(list(idx_map_tN.values()))\n",
    "    plot_names = [item for sublist in plot_names for item in sublist]\n",
    "    \n",
    "    \n",
    "    source = []\n",
    "    target = []\n",
    "    value = []\n",
    "    for (u,v), w in dict(Counter(edges)).items():\n",
    "        source.append(u)\n",
    "        target.append(v)\n",
    "        value.append(w)\n",
    "\n",
    "    #Fixing plotly error\n",
    "    for plot_name in plot_names:\n",
    "        if plot_name not in target and plot_name not in source:\n",
    "            source.append(plot_name)\n",
    "            target.append(plot_name)\n",
    "            value.append(1)\n",
    "    \n",
    "    #Determining positions - has to be between 0-1\n",
    "    y = []\n",
    "    x = []\n",
    "    year_range = np.linspace(0, 1, len(number_communities.values()))\n",
    "    \n",
    "    \n",
    "    for idx, number in enumerate(number_communities.values()):\n",
    "        y.append(np.linspace(0, 1, number))\n",
    "        x.append([year_range[idx]]*number) \n",
    "        \n",
    "    x_pos = [item for sublist in x for item in sublist]\n",
    "    y_pos = [item for sublist in y for item in sublist]\n",
    "    \n",
    "    fig = go.Figure(data=[go.Sankey(\n",
    "            arrangement = \"snap\",\n",
    "            node = dict(\n",
    "                pad = 10,\n",
    "                thickness = 15,\n",
    "                line = dict(color = \"black\", width=0.5),\n",
    "                label = plot_names,\n",
    "                x = x_pos,\n",
    "                y = y_pos,\n",
    "                color = \"darkblue\"\n",
    "\n",
    "            ),\n",
    "            link = dict(\n",
    "                source = source,\n",
    "                target = target,\n",
    "                value = value,\n",
    "                color = [\n",
    "                        px.colors.qualitative.Plotly[i % len(px.colors.qualitative.Plotly)] if i %(k+1) != k else 'grey' for i in source\n",
    "                       ]\n",
    "            )\n",
    "    )])\n",
    "    \n",
    "    fig.update_layout(#title_text=f\"Community Evolution {t0}-{tN}\", font_size=15, \n",
    "                      yaxis={'visible': False, 'showticklabels': False},\n",
    "                      xaxis={'visible': False, 'showticklabels': False})\n",
    "    \n",
    "    for x_coordinate, column_name in enumerate([f\"{t0+i}\" for i in range(tN-t0 + 1)]):\n",
    "        fig.add_annotation(\n",
    "              x=x_coordinate,#Plotly recognizes 0-5 to be the x range.\n",
    "\n",
    "              y=1.075,#y value above 1 means above all nodes\n",
    "              xref=\"x\",\n",
    "              yref=\"paper\",\n",
    "              text=column_name,#Text\n",
    "              showarrow=False,\n",
    "              font=dict(\n",
    "                  family=\"Times New Roman\",\n",
    "                  size=16,\n",
    "                  color=\"black\"\n",
    "                  ),\n",
    "              align=\"left\",\n",
    "              )\n",
    "\n",
    "    #fig.add_annotation(text='Self-loops indicate no node migration to the previous or next K-greatest communities', \n",
    "    #                align='left',\n",
    "    #                showarrow=False,\n",
    "    #                xref='paper',\n",
    "    #                yref='paper',\n",
    "    #                x=0,\n",
    "    #                y=-0.1,\n",
    "    #                bordercolor='black',\n",
    "    #                borderwidth=1,\n",
    "    #                font=dict(\n",
    "    #                      family=\"Times New Roman\",\n",
    "    #                      size=12,\n",
    "    #                      color=\"black\"\n",
    "    #              ))\n",
    "    \n",
    "    return fig, tot_communities"
   ]
  },
  {
   "cell_type": "code",
   "execution_count": 73,
   "metadata": {},
   "outputs": [],
   "source": [
    "fig, temp = sankey(t0=2015, tN=2022, k=10, edgelist=expanded_edgelist, N=100, threshold=0.9, verbose=False)"
   ]
  },
  {
   "cell_type": "code",
   "execution_count": null,
   "metadata": {},
   "outputs": [
    {
     "data": {
      "application/vnd.plotly.v1+json": {
       "config": {
        "plotlyServerURL": "https://plot.ly"
       },
       "data": [
        {
         "arrangement": "snap",
         "link": {
          "color": [
           "#636EFA",
           "#EF553B",
           "#EF553B",
           "#00CC96",
           "#AB63FA",
           "#FFA15A",
           "#FF6692",
           "#FF6692",
           "#FF6692",
           "#B6E880",
           "#B6E880",
           "#FF97FF",
           "#FF97FF",
           "#FECB52",
           "#FECB52",
           "grey",
           "#EF553B",
           "#00CC96",
           "#AB63FA",
           "#FFA15A",
           "#19D3F3",
           "#B6E880",
           "#B6E880",
           "#B6E880",
           "#B6E880",
           "#FF97FF",
           "#FF97FF",
           "#FF97FF",
           "#FF97FF",
           "#FF97FF",
           "#FF97FF",
           "#FECB52",
           "#FECB52",
           "#636EFA",
           "#636EFA",
           "#636EFA",
           "#636EFA",
           "grey",
           "grey",
           "grey",
           "#00CC96",
           "#00CC96",
           "#AB63FA",
           "#AB63FA",
           "#AB63FA",
           "#AB63FA",
           "#FFA15A",
           "#19D3F3",
           "#FF6692",
           "#FF6692",
           "#B6E880",
           "#B6E880",
           "#B6E880",
           "#B6E880",
           "#B6E880",
           "#B6E880",
           "#B6E880",
           "#B6E880",
           "#FF97FF",
           "#FF97FF",
           "#FF97FF",
           "#FF97FF",
           "#FF97FF",
           "#FF97FF",
           "#FF97FF",
           "#FF97FF",
           "#FECB52",
           "#FECB52",
           "#FECB52",
           "#FECB52",
           "#FECB52",
           "#636EFA",
           "#636EFA",
           "#636EFA",
           "#636EFA",
           "#636EFA",
           "#636EFA",
           "#636EFA",
           "#636EFA",
           "#EF553B",
           "#EF553B",
           "#EF553B",
           "#EF553B",
           "#EF553B",
           "#EF553B",
           "#EF553B",
           "grey",
           "grey",
           "grey",
           "grey",
           "grey",
           "grey",
           "#AB63FA",
           "#AB63FA",
           "#AB63FA",
           "#AB63FA",
           "#FFA15A",
           "#FFA15A",
           "#FFA15A",
           "#19D3F3",
           "#19D3F3",
           "#FF6692",
           "#FF6692",
           "#B6E880",
           "#B6E880",
           "#FF97FF",
           "#FF97FF",
           "#FF97FF",
           "#FF97FF",
           "#FF97FF",
           "#FF97FF",
           "#FF97FF",
           "#FF97FF",
           "#FF97FF",
           "#FECB52",
           "#FECB52",
           "#FECB52",
           "#FECB52",
           "#FECB52",
           "#FECB52",
           "#636EFA",
           "#636EFA",
           "#636EFA",
           "#636EFA",
           "#EF553B",
           "#EF553B",
           "#EF553B",
           "#00CC96",
           "#00CC96",
           "#00CC96",
           "#00CC96",
           "#00CC96",
           "grey",
           "grey",
           "grey",
           "#FFA15A",
           "#FFA15A",
           "#FFA15A",
           "#FFA15A",
           "#19D3F3",
           "#19D3F3",
           "#FF6692",
           "#FF6692",
           "#FF6692",
           "#FF6692",
           "#B6E880",
           "#B6E880",
           "#FF97FF",
           "#FF97FF",
           "#FF97FF",
           "#FECB52",
           "#FECB52",
           "#FECB52",
           "#FECB52",
           "#FECB52",
           "#FECB52",
           "#FECB52",
           "#FECB52",
           "#FECB52",
           "#FECB52",
           "#FECB52",
           "#636EFA",
           "#636EFA",
           "#636EFA",
           "#636EFA",
           "#636EFA",
           "#636EFA",
           "#636EFA",
           "#636EFA",
           "#636EFA",
           "#636EFA",
           "#636EFA",
           "#EF553B",
           "#EF553B",
           "#EF553B",
           "#EF553B",
           "#EF553B",
           "#EF553B",
           "#00CC96",
           "#00CC96",
           "#00CC96",
           "#AB63FA",
           "#AB63FA",
           "#AB63FA",
           "#AB63FA",
           "grey",
           "grey",
           "grey",
           "#19D3F3",
           "#19D3F3",
           "#FF6692",
           "#FF6692",
           "#B6E880",
           "#B6E880",
           "#B6E880",
           "#FF97FF",
           "#FF97FF",
           "#FECB52",
           "#FECB52",
           "#FECB52",
           "#636EFA",
           "#636EFA",
           "#636EFA",
           "#636EFA",
           "#636EFA",
           "#636EFA",
           "#636EFA",
           "#636EFA",
           "#636EFA",
           "#636EFA",
           "#636EFA",
           "#EF553B",
           "#EF553B",
           "#EF553B",
           "#EF553B",
           "#00CC96",
           "#00CC96",
           "#00CC96",
           "#00CC96",
           "#AB63FA",
           "#AB63FA",
           "#AB63FA",
           "#FFA15A",
           "#FFA15A",
           "#FFA15A",
           "grey",
           "grey",
           "grey",
           "#FF6692",
           "#FF6692",
           "#B6E880",
           "#B6E880",
           "#B6E880",
           "#B6E880",
           "#FF97FF",
           "#FF97FF",
           "#FECB52",
           "#FECB52",
           "#FECB52",
           "#636EFA",
           "#636EFA",
           "#636EFA",
           "#636EFA",
           "#EF553B",
           "#EF553B",
           "#EF553B",
           "#EF553B",
           "#EF553B",
           "#EF553B",
           "#EF553B",
           "#EF553B",
           "#EF553B",
           "#EF553B",
           "#EF553B",
           "#19D3F3",
           "#FF6692"
          ],
          "source": [
           0,
           1,
           1,
           2,
           3,
           4,
           6,
           6,
           6,
           7,
           7,
           8,
           8,
           9,
           9,
           10,
           11,
           12,
           13,
           14,
           15,
           17,
           17,
           17,
           17,
           18,
           18,
           18,
           18,
           18,
           18,
           19,
           19,
           20,
           20,
           20,
           20,
           21,
           21,
           21,
           22,
           22,
           23,
           23,
           23,
           23,
           24,
           25,
           26,
           26,
           27,
           27,
           27,
           27,
           27,
           27,
           27,
           27,
           28,
           28,
           28,
           28,
           28,
           28,
           28,
           28,
           29,
           29,
           29,
           29,
           29,
           30,
           30,
           30,
           30,
           30,
           30,
           30,
           30,
           31,
           31,
           31,
           31,
           31,
           31,
           31,
           32,
           32,
           32,
           32,
           32,
           32,
           33,
           33,
           33,
           33,
           34,
           34,
           34,
           35,
           35,
           36,
           36,
           37,
           37,
           38,
           38,
           38,
           38,
           38,
           38,
           38,
           38,
           38,
           39,
           39,
           39,
           39,
           39,
           39,
           40,
           40,
           40,
           40,
           41,
           41,
           41,
           42,
           42,
           42,
           42,
           42,
           43,
           43,
           43,
           44,
           44,
           44,
           44,
           45,
           45,
           46,
           46,
           46,
           46,
           47,
           47,
           48,
           48,
           48,
           49,
           49,
           49,
           49,
           49,
           49,
           49,
           49,
           49,
           49,
           49,
           50,
           50,
           50,
           50,
           50,
           50,
           50,
           50,
           50,
           50,
           50,
           51,
           51,
           51,
           51,
           51,
           51,
           52,
           52,
           52,
           53,
           53,
           53,
           53,
           54,
           54,
           54,
           55,
           55,
           56,
           56,
           57,
           57,
           57,
           58,
           58,
           59,
           59,
           59,
           60,
           60,
           60,
           60,
           60,
           60,
           60,
           60,
           60,
           60,
           60,
           61,
           61,
           61,
           61,
           62,
           62,
           62,
           62,
           63,
           63,
           63,
           64,
           64,
           64,
           65,
           65,
           65,
           66,
           66,
           67,
           67,
           67,
           67,
           68,
           68,
           69,
           69,
           69,
           70,
           70,
           70,
           70,
           71,
           71,
           71,
           71,
           71,
           71,
           71,
           71,
           71,
           71,
           71,
           5,
           16
          ],
          "target": [
           6,
           8,
           11,
           7,
           6,
           6,
           17,
           21,
           27,
           19,
           27,
           18,
           22,
           27,
           18,
           27,
           19,
           27,
           19,
           18,
           17,
           28,
           30,
           38,
           29,
           30,
           38,
           33,
           32,
           37,
           31,
           29,
           31,
           32,
           38,
           37,
           28,
           38,
           36,
           32,
           31,
           38,
           38,
           35,
           31,
           34,
           38,
           38,
           38,
           30,
           34,
           35,
           31,
           29,
           32,
           28,
           38,
           30,
           49,
           39,
           46,
           48,
           42,
           40,
           44,
           47,
           49,
           41,
           40,
           45,
           39,
           43,
           49,
           46,
           47,
           41,
           48,
           42,
           39,
           48,
           43,
           40,
           39,
           49,
           45,
           44,
           44,
           49,
           40,
           45,
           43,
           46,
           40,
           49,
           43,
           41,
           49,
           45,
           40,
           44,
           49,
           39,
           49,
           40,
           49,
           49,
           45,
           46,
           39,
           48,
           47,
           40,
           41,
           43,
           55,
           51,
           60,
           50,
           57,
           53,
           50,
           60,
           52,
           54,
           60,
           50,
           57,
           51,
           60,
           50,
           52,
           55,
           50,
           60,
           55,
           50,
           57,
           60,
           59,
           50,
           60,
           60,
           50,
           51,
           53,
           50,
           60,
           50,
           60,
           58,
           50,
           53,
           51,
           60,
           54,
           56,
           52,
           59,
           57,
           58,
           55,
           71,
           62,
           67,
           66,
           64,
           68,
           63,
           69,
           65,
           70,
           61,
           71,
           61,
           64,
           63,
           62,
           70,
           71,
           64,
           62,
           71,
           67,
           70,
           62,
           71,
           67,
           68,
           61,
           71,
           71,
           66,
           71,
           67,
           61,
           71,
           63,
           67,
           71,
           61,
           71,
           61,
           69,
           63,
           65,
           62,
           68,
           64,
           66,
           70,
           67,
           72,
           82,
           75,
           73,
           73,
           75,
           82,
           78,
           74,
           82,
           72,
           82,
           76,
           72,
           75,
           82,
           79,
           82,
           80,
           82,
           77,
           75,
           73,
           78,
           82,
           81,
           82,
           77,
           80,
           82,
           72,
           75,
           82,
           72,
           79,
           74,
           77,
           73,
           75,
           78,
           80,
           76,
           81,
           5,
           16
          ],
          "value": [
           10,
           7,
           1,
           3,
           3,
           1,
           38,
           4,
           1,
           8,
           1,
           7,
           1,
           2,
           1,
           4,
           3,
           2,
           2,
           2,
           1,
           51,
           9,
           2,
           1,
           5,
           4,
           8,
           10,
           3,
           5,
           25,
           4,
           2,
           3,
           1,
           1,
           2,
           2,
           4,
           3,
           3,
           1,
           1,
           1,
           1,
           2,
           2,
           1,
           1,
           3,
           1,
           3,
           2,
           3,
           1,
           4,
           2,
           59,
           84,
           1,
           5,
           34,
           3,
           1,
           1,
           20,
           31,
           4,
           1,
           1,
           2,
           23,
           11,
           12,
           1,
           1,
           1,
           1,
           9,
           7,
           17,
           2,
           13,
           1,
           2,
           16,
           9,
           8,
           8,
           1,
           1,
           6,
           6,
           1,
           1,
           9,
           1,
           2,
           1,
           11,
           6,
           3,
           3,
           4,
           59,
           4,
           2,
           4,
           2,
           1,
           4,
           2,
           1,
           12,
           113,
           38,
           5,
           1,
           1,
           64,
           25,
           3,
           2,
           6,
           56,
           3,
           38,
           8,
           2,
           1,
           2,
           25,
           10,
           2,
           25,
           1,
           6,
           1,
           19,
           7,
           5,
           16,
           1,
           2,
           20,
           3,
           16,
           5,
           1,
           198,
           8,
           59,
           199,
           15,
           9,
           10,
           6,
           6,
           7,
           2,
           380,
           84,
           12,
           23,
           43,
           20,
           49,
           13,
           39,
           5,
           3,
           34,
           229,
           1,
           1,
           1,
           1,
           29,
           1,
           2,
           13,
           1,
           14,
           1,
           27,
           1,
           1,
           7,
           18,
           17,
           2,
           11,
           7,
           1,
           17,
           1,
           1,
           14,
           1,
           373,
           63,
           10,
           18,
           4,
           3,
           4,
           4,
           4,
           3,
           1,
           290,
           24,
           1,
           1,
           82,
           1,
           19,
           1,
           52,
           20,
           1,
           21,
           36,
           1,
           37,
           7,
           1,
           28,
           1,
           5,
           21,
           1,
           1,
           21,
           5,
           22,
           1,
           1,
           17,
           4,
           2,
           1,
           886,
           34,
           26,
           23,
           12,
           11,
           13,
           7,
           7,
           13,
           3,
           1,
           1
          ]
         },
         "node": {
          "color": "darkblue",
          "label": [
           0,
           1,
           2,
           3,
           4,
           5,
           6,
           7,
           8,
           9,
           10,
           11,
           12,
           13,
           14,
           15,
           16,
           17,
           18,
           19,
           20,
           21,
           22,
           23,
           24,
           25,
           26,
           27,
           28,
           29,
           30,
           31,
           32,
           33,
           34,
           35,
           36,
           37,
           38,
           39,
           40,
           41,
           42,
           43,
           44,
           45,
           46,
           47,
           48,
           49,
           50,
           51,
           52,
           53,
           54,
           55,
           56,
           57,
           58,
           59,
           60,
           61,
           62,
           63,
           64,
           65,
           66,
           67,
           68,
           69,
           70,
           71,
           72,
           73,
           74,
           75,
           76,
           77,
           78,
           79,
           80,
           81,
           82
          ],
          "line": {
           "color": "black",
           "width": 0.5
          },
          "pad": 10,
          "thickness": 15,
          "x": [
           0,
           0,
           0,
           0,
           0,
           0,
           0.14285714285714285,
           0.14285714285714285,
           0.14285714285714285,
           0.14285714285714285,
           0.14285714285714285,
           0.14285714285714285,
           0.14285714285714285,
           0.14285714285714285,
           0.14285714285714285,
           0.14285714285714285,
           0.14285714285714285,
           0.2857142857142857,
           0.2857142857142857,
           0.2857142857142857,
           0.2857142857142857,
           0.2857142857142857,
           0.2857142857142857,
           0.2857142857142857,
           0.2857142857142857,
           0.2857142857142857,
           0.2857142857142857,
           0.2857142857142857,
           0.42857142857142855,
           0.42857142857142855,
           0.42857142857142855,
           0.42857142857142855,
           0.42857142857142855,
           0.42857142857142855,
           0.42857142857142855,
           0.42857142857142855,
           0.42857142857142855,
           0.42857142857142855,
           0.42857142857142855,
           0.5714285714285714,
           0.5714285714285714,
           0.5714285714285714,
           0.5714285714285714,
           0.5714285714285714,
           0.5714285714285714,
           0.5714285714285714,
           0.5714285714285714,
           0.5714285714285714,
           0.5714285714285714,
           0.5714285714285714,
           0.7142857142857142,
           0.7142857142857142,
           0.7142857142857142,
           0.7142857142857142,
           0.7142857142857142,
           0.7142857142857142,
           0.7142857142857142,
           0.7142857142857142,
           0.7142857142857142,
           0.7142857142857142,
           0.7142857142857142,
           0.8571428571428571,
           0.8571428571428571,
           0.8571428571428571,
           0.8571428571428571,
           0.8571428571428571,
           0.8571428571428571,
           0.8571428571428571,
           0.8571428571428571,
           0.8571428571428571,
           0.8571428571428571,
           0.8571428571428571,
           1,
           1,
           1,
           1,
           1,
           1,
           1,
           1,
           1,
           1,
           1
          ],
          "y": [
           0,
           0.2,
           0.4,
           0.6000000000000001,
           0.8,
           1,
           0,
           0.1,
           0.2,
           0.30000000000000004,
           0.4,
           0.5,
           0.6000000000000001,
           0.7000000000000001,
           0.8,
           0.9,
           1,
           0,
           0.1,
           0.2,
           0.30000000000000004,
           0.4,
           0.5,
           0.6000000000000001,
           0.7000000000000001,
           0.8,
           0.9,
           1,
           0,
           0.1,
           0.2,
           0.30000000000000004,
           0.4,
           0.5,
           0.6000000000000001,
           0.7000000000000001,
           0.8,
           0.9,
           1,
           0,
           0.1,
           0.2,
           0.30000000000000004,
           0.4,
           0.5,
           0.6000000000000001,
           0.7000000000000001,
           0.8,
           0.9,
           1,
           0,
           0.1,
           0.2,
           0.30000000000000004,
           0.4,
           0.5,
           0.6000000000000001,
           0.7000000000000001,
           0.8,
           0.9,
           1,
           0,
           0.1,
           0.2,
           0.30000000000000004,
           0.4,
           0.5,
           0.6000000000000001,
           0.7000000000000001,
           0.8,
           0.9,
           1,
           0,
           0.1,
           0.2,
           0.30000000000000004,
           0.4,
           0.5,
           0.6000000000000001,
           0.7000000000000001,
           0.8,
           0.9,
           1
          ]
         },
         "type": "sankey"
        }
       ],
       "layout": {
        "annotations": [
         {
          "align": "left",
          "font": {
           "color": "black",
           "family": "Times New Roman",
           "size": 16
          },
          "showarrow": false,
          "text": "2001",
          "x": 0,
          "xref": "x",
          "y": 1.075,
          "yref": "paper"
         },
         {
          "align": "left",
          "font": {
           "color": "black",
           "family": "Times New Roman",
           "size": 16
          },
          "showarrow": false,
          "text": "2002",
          "x": 1,
          "xref": "x",
          "y": 1.075,
          "yref": "paper"
         },
         {
          "align": "left",
          "font": {
           "color": "black",
           "family": "Times New Roman",
           "size": 16
          },
          "showarrow": false,
          "text": "2003",
          "x": 2,
          "xref": "x",
          "y": 1.075,
          "yref": "paper"
         },
         {
          "align": "left",
          "font": {
           "color": "black",
           "family": "Times New Roman",
           "size": 16
          },
          "showarrow": false,
          "text": "2004",
          "x": 3,
          "xref": "x",
          "y": 1.075,
          "yref": "paper"
         },
         {
          "align": "left",
          "font": {
           "color": "black",
           "family": "Times New Roman",
           "size": 16
          },
          "showarrow": false,
          "text": "2005",
          "x": 4,
          "xref": "x",
          "y": 1.075,
          "yref": "paper"
         },
         {
          "align": "left",
          "font": {
           "color": "black",
           "family": "Times New Roman",
           "size": 16
          },
          "showarrow": false,
          "text": "2006",
          "x": 5,
          "xref": "x",
          "y": 1.075,
          "yref": "paper"
         },
         {
          "align": "left",
          "font": {
           "color": "black",
           "family": "Times New Roman",
           "size": 16
          },
          "showarrow": false,
          "text": "2007",
          "x": 6,
          "xref": "x",
          "y": 1.075,
          "yref": "paper"
         },
         {
          "align": "left",
          "font": {
           "color": "black",
           "family": "Times New Roman",
           "size": 16
          },
          "showarrow": false,
          "text": "2008",
          "x": 7,
          "xref": "x",
          "y": 1.075,
          "yref": "paper"
         },
         {
          "align": "left",
          "bordercolor": "black",
          "borderwidth": 1,
          "font": {
           "color": "black",
           "family": "Times New Roman",
           "size": 12
          },
          "showarrow": false,
          "text": "Self-loops indicate no node migration to the previous or next K-greatest communities",
          "x": 0,
          "xref": "paper",
          "y": -0.1,
          "yref": "paper"
         }
        ],
        "font": {
         "size": 15
        },
        "template": {
         "data": {
          "bar": [
           {
            "error_x": {
             "color": "#2a3f5f"
            },
            "error_y": {
             "color": "#2a3f5f"
            },
            "marker": {
             "line": {
              "color": "#E5ECF6",
              "width": 0.5
             },
             "pattern": {
              "fillmode": "overlay",
              "size": 10,
              "solidity": 0.2
             }
            },
            "type": "bar"
           }
          ],
          "barpolar": [
           {
            "marker": {
             "line": {
              "color": "#E5ECF6",
              "width": 0.5
             },
             "pattern": {
              "fillmode": "overlay",
              "size": 10,
              "solidity": 0.2
             }
            },
            "type": "barpolar"
           }
          ],
          "carpet": [
           {
            "aaxis": {
             "endlinecolor": "#2a3f5f",
             "gridcolor": "white",
             "linecolor": "white",
             "minorgridcolor": "white",
             "startlinecolor": "#2a3f5f"
            },
            "baxis": {
             "endlinecolor": "#2a3f5f",
             "gridcolor": "white",
             "linecolor": "white",
             "minorgridcolor": "white",
             "startlinecolor": "#2a3f5f"
            },
            "type": "carpet"
           }
          ],
          "choropleth": [
           {
            "colorbar": {
             "outlinewidth": 0,
             "ticks": ""
            },
            "type": "choropleth"
           }
          ],
          "contour": [
           {
            "colorbar": {
             "outlinewidth": 0,
             "ticks": ""
            },
            "colorscale": [
             [
              0,
              "#0d0887"
             ],
             [
              0.1111111111111111,
              "#46039f"
             ],
             [
              0.2222222222222222,
              "#7201a8"
             ],
             [
              0.3333333333333333,
              "#9c179e"
             ],
             [
              0.4444444444444444,
              "#bd3786"
             ],
             [
              0.5555555555555556,
              "#d8576b"
             ],
             [
              0.6666666666666666,
              "#ed7953"
             ],
             [
              0.7777777777777778,
              "#fb9f3a"
             ],
             [
              0.8888888888888888,
              "#fdca26"
             ],
             [
              1,
              "#f0f921"
             ]
            ],
            "type": "contour"
           }
          ],
          "contourcarpet": [
           {
            "colorbar": {
             "outlinewidth": 0,
             "ticks": ""
            },
            "type": "contourcarpet"
           }
          ],
          "heatmap": [
           {
            "colorbar": {
             "outlinewidth": 0,
             "ticks": ""
            },
            "colorscale": [
             [
              0,
              "#0d0887"
             ],
             [
              0.1111111111111111,
              "#46039f"
             ],
             [
              0.2222222222222222,
              "#7201a8"
             ],
             [
              0.3333333333333333,
              "#9c179e"
             ],
             [
              0.4444444444444444,
              "#bd3786"
             ],
             [
              0.5555555555555556,
              "#d8576b"
             ],
             [
              0.6666666666666666,
              "#ed7953"
             ],
             [
              0.7777777777777778,
              "#fb9f3a"
             ],
             [
              0.8888888888888888,
              "#fdca26"
             ],
             [
              1,
              "#f0f921"
             ]
            ],
            "type": "heatmap"
           }
          ],
          "heatmapgl": [
           {
            "colorbar": {
             "outlinewidth": 0,
             "ticks": ""
            },
            "colorscale": [
             [
              0,
              "#0d0887"
             ],
             [
              0.1111111111111111,
              "#46039f"
             ],
             [
              0.2222222222222222,
              "#7201a8"
             ],
             [
              0.3333333333333333,
              "#9c179e"
             ],
             [
              0.4444444444444444,
              "#bd3786"
             ],
             [
              0.5555555555555556,
              "#d8576b"
             ],
             [
              0.6666666666666666,
              "#ed7953"
             ],
             [
              0.7777777777777778,
              "#fb9f3a"
             ],
             [
              0.8888888888888888,
              "#fdca26"
             ],
             [
              1,
              "#f0f921"
             ]
            ],
            "type": "heatmapgl"
           }
          ],
          "histogram": [
           {
            "marker": {
             "pattern": {
              "fillmode": "overlay",
              "size": 10,
              "solidity": 0.2
             }
            },
            "type": "histogram"
           }
          ],
          "histogram2d": [
           {
            "colorbar": {
             "outlinewidth": 0,
             "ticks": ""
            },
            "colorscale": [
             [
              0,
              "#0d0887"
             ],
             [
              0.1111111111111111,
              "#46039f"
             ],
             [
              0.2222222222222222,
              "#7201a8"
             ],
             [
              0.3333333333333333,
              "#9c179e"
             ],
             [
              0.4444444444444444,
              "#bd3786"
             ],
             [
              0.5555555555555556,
              "#d8576b"
             ],
             [
              0.6666666666666666,
              "#ed7953"
             ],
             [
              0.7777777777777778,
              "#fb9f3a"
             ],
             [
              0.8888888888888888,
              "#fdca26"
             ],
             [
              1,
              "#f0f921"
             ]
            ],
            "type": "histogram2d"
           }
          ],
          "histogram2dcontour": [
           {
            "colorbar": {
             "outlinewidth": 0,
             "ticks": ""
            },
            "colorscale": [
             [
              0,
              "#0d0887"
             ],
             [
              0.1111111111111111,
              "#46039f"
             ],
             [
              0.2222222222222222,
              "#7201a8"
             ],
             [
              0.3333333333333333,
              "#9c179e"
             ],
             [
              0.4444444444444444,
              "#bd3786"
             ],
             [
              0.5555555555555556,
              "#d8576b"
             ],
             [
              0.6666666666666666,
              "#ed7953"
             ],
             [
              0.7777777777777778,
              "#fb9f3a"
             ],
             [
              0.8888888888888888,
              "#fdca26"
             ],
             [
              1,
              "#f0f921"
             ]
            ],
            "type": "histogram2dcontour"
           }
          ],
          "mesh3d": [
           {
            "colorbar": {
             "outlinewidth": 0,
             "ticks": ""
            },
            "type": "mesh3d"
           }
          ],
          "parcoords": [
           {
            "line": {
             "colorbar": {
              "outlinewidth": 0,
              "ticks": ""
             }
            },
            "type": "parcoords"
           }
          ],
          "pie": [
           {
            "automargin": true,
            "type": "pie"
           }
          ],
          "scatter": [
           {
            "marker": {
             "colorbar": {
              "outlinewidth": 0,
              "ticks": ""
             }
            },
            "type": "scatter"
           }
          ],
          "scatter3d": [
           {
            "line": {
             "colorbar": {
              "outlinewidth": 0,
              "ticks": ""
             }
            },
            "marker": {
             "colorbar": {
              "outlinewidth": 0,
              "ticks": ""
             }
            },
            "type": "scatter3d"
           }
          ],
          "scattercarpet": [
           {
            "marker": {
             "colorbar": {
              "outlinewidth": 0,
              "ticks": ""
             }
            },
            "type": "scattercarpet"
           }
          ],
          "scattergeo": [
           {
            "marker": {
             "colorbar": {
              "outlinewidth": 0,
              "ticks": ""
             }
            },
            "type": "scattergeo"
           }
          ],
          "scattergl": [
           {
            "marker": {
             "colorbar": {
              "outlinewidth": 0,
              "ticks": ""
             }
            },
            "type": "scattergl"
           }
          ],
          "scattermapbox": [
           {
            "marker": {
             "colorbar": {
              "outlinewidth": 0,
              "ticks": ""
             }
            },
            "type": "scattermapbox"
           }
          ],
          "scatterpolar": [
           {
            "marker": {
             "colorbar": {
              "outlinewidth": 0,
              "ticks": ""
             }
            },
            "type": "scatterpolar"
           }
          ],
          "scatterpolargl": [
           {
            "marker": {
             "colorbar": {
              "outlinewidth": 0,
              "ticks": ""
             }
            },
            "type": "scatterpolargl"
           }
          ],
          "scatterternary": [
           {
            "marker": {
             "colorbar": {
              "outlinewidth": 0,
              "ticks": ""
             }
            },
            "type": "scatterternary"
           }
          ],
          "surface": [
           {
            "colorbar": {
             "outlinewidth": 0,
             "ticks": ""
            },
            "colorscale": [
             [
              0,
              "#0d0887"
             ],
             [
              0.1111111111111111,
              "#46039f"
             ],
             [
              0.2222222222222222,
              "#7201a8"
             ],
             [
              0.3333333333333333,
              "#9c179e"
             ],
             [
              0.4444444444444444,
              "#bd3786"
             ],
             [
              0.5555555555555556,
              "#d8576b"
             ],
             [
              0.6666666666666666,
              "#ed7953"
             ],
             [
              0.7777777777777778,
              "#fb9f3a"
             ],
             [
              0.8888888888888888,
              "#fdca26"
             ],
             [
              1,
              "#f0f921"
             ]
            ],
            "type": "surface"
           }
          ],
          "table": [
           {
            "cells": {
             "fill": {
              "color": "#EBF0F8"
             },
             "line": {
              "color": "white"
             }
            },
            "header": {
             "fill": {
              "color": "#C8D4E3"
             },
             "line": {
              "color": "white"
             }
            },
            "type": "table"
           }
          ]
         },
         "layout": {
          "annotationdefaults": {
           "arrowcolor": "#2a3f5f",
           "arrowhead": 0,
           "arrowwidth": 1
          },
          "autotypenumbers": "strict",
          "coloraxis": {
           "colorbar": {
            "outlinewidth": 0,
            "ticks": ""
           }
          },
          "colorscale": {
           "diverging": [
            [
             0,
             "#8e0152"
            ],
            [
             0.1,
             "#c51b7d"
            ],
            [
             0.2,
             "#de77ae"
            ],
            [
             0.3,
             "#f1b6da"
            ],
            [
             0.4,
             "#fde0ef"
            ],
            [
             0.5,
             "#f7f7f7"
            ],
            [
             0.6,
             "#e6f5d0"
            ],
            [
             0.7,
             "#b8e186"
            ],
            [
             0.8,
             "#7fbc41"
            ],
            [
             0.9,
             "#4d9221"
            ],
            [
             1,
             "#276419"
            ]
           ],
           "sequential": [
            [
             0,
             "#0d0887"
            ],
            [
             0.1111111111111111,
             "#46039f"
            ],
            [
             0.2222222222222222,
             "#7201a8"
            ],
            [
             0.3333333333333333,
             "#9c179e"
            ],
            [
             0.4444444444444444,
             "#bd3786"
            ],
            [
             0.5555555555555556,
             "#d8576b"
            ],
            [
             0.6666666666666666,
             "#ed7953"
            ],
            [
             0.7777777777777778,
             "#fb9f3a"
            ],
            [
             0.8888888888888888,
             "#fdca26"
            ],
            [
             1,
             "#f0f921"
            ]
           ],
           "sequentialminus": [
            [
             0,
             "#0d0887"
            ],
            [
             0.1111111111111111,
             "#46039f"
            ],
            [
             0.2222222222222222,
             "#7201a8"
            ],
            [
             0.3333333333333333,
             "#9c179e"
            ],
            [
             0.4444444444444444,
             "#bd3786"
            ],
            [
             0.5555555555555556,
             "#d8576b"
            ],
            [
             0.6666666666666666,
             "#ed7953"
            ],
            [
             0.7777777777777778,
             "#fb9f3a"
            ],
            [
             0.8888888888888888,
             "#fdca26"
            ],
            [
             1,
             "#f0f921"
            ]
           ]
          },
          "colorway": [
           "#636efa",
           "#EF553B",
           "#00cc96",
           "#ab63fa",
           "#FFA15A",
           "#19d3f3",
           "#FF6692",
           "#B6E880",
           "#FF97FF",
           "#FECB52"
          ],
          "font": {
           "color": "#2a3f5f"
          },
          "geo": {
           "bgcolor": "white",
           "lakecolor": "white",
           "landcolor": "#E5ECF6",
           "showlakes": true,
           "showland": true,
           "subunitcolor": "white"
          },
          "hoverlabel": {
           "align": "left"
          },
          "hovermode": "closest",
          "mapbox": {
           "style": "light"
          },
          "paper_bgcolor": "white",
          "plot_bgcolor": "#E5ECF6",
          "polar": {
           "angularaxis": {
            "gridcolor": "white",
            "linecolor": "white",
            "ticks": ""
           },
           "bgcolor": "#E5ECF6",
           "radialaxis": {
            "gridcolor": "white",
            "linecolor": "white",
            "ticks": ""
           }
          },
          "scene": {
           "xaxis": {
            "backgroundcolor": "#E5ECF6",
            "gridcolor": "white",
            "gridwidth": 2,
            "linecolor": "white",
            "showbackground": true,
            "ticks": "",
            "zerolinecolor": "white"
           },
           "yaxis": {
            "backgroundcolor": "#E5ECF6",
            "gridcolor": "white",
            "gridwidth": 2,
            "linecolor": "white",
            "showbackground": true,
            "ticks": "",
            "zerolinecolor": "white"
           },
           "zaxis": {
            "backgroundcolor": "#E5ECF6",
            "gridcolor": "white",
            "gridwidth": 2,
            "linecolor": "white",
            "showbackground": true,
            "ticks": "",
            "zerolinecolor": "white"
           }
          },
          "shapedefaults": {
           "line": {
            "color": "#2a3f5f"
           }
          },
          "ternary": {
           "aaxis": {
            "gridcolor": "white",
            "linecolor": "white",
            "ticks": ""
           },
           "baxis": {
            "gridcolor": "white",
            "linecolor": "white",
            "ticks": ""
           },
           "bgcolor": "#E5ECF6",
           "caxis": {
            "gridcolor": "white",
            "linecolor": "white",
            "ticks": ""
           }
          },
          "title": {
           "x": 0.05
          },
          "xaxis": {
           "automargin": true,
           "gridcolor": "white",
           "linecolor": "white",
           "ticks": "",
           "title": {
            "standoff": 15
           },
           "zerolinecolor": "white",
           "zerolinewidth": 2
          },
          "yaxis": {
           "automargin": true,
           "gridcolor": "white",
           "linecolor": "white",
           "ticks": "",
           "title": {
            "standoff": 15
           },
           "zerolinecolor": "white",
           "zerolinewidth": 2
          }
         }
        },
        "title": {
         "text": "Community Evolution 2001-2008"
        },
        "xaxis": {
         "showticklabels": false,
         "visible": false
        },
        "yaxis": {
         "showticklabels": false,
         "visible": false
        }
       }
      }
     },
     "metadata": {},
     "output_type": "display_data"
    }
   ],
   "source": [
    "fig.show()"
   ]
  },
  {
   "cell_type": "code",
   "execution_count": null,
   "metadata": {},
   "outputs": [],
   "source": []
  }
 ],
 "metadata": {
  "kernelspec": {
   "display_name": "Python 3.8.6 64-bit",
   "language": "python",
   "name": "python3"
  },
  "language_info": {
   "codemirror_mode": {
    "name": "ipython",
    "version": 3
   },
   "file_extension": ".py",
   "mimetype": "text/x-python",
   "name": "python",
   "nbconvert_exporter": "python",
   "pygments_lexer": "ipython3",
   "version": "3.8.6"
  },
  "orig_nbformat": 4,
  "vscode": {
   "interpreter": {
    "hash": "082e9a3bcad0a290d0001e938aa60b99250c6c2ef33a923c00b70f9826caf4b7"
   }
  }
 },
 "nbformat": 4,
 "nbformat_minor": 2
}
