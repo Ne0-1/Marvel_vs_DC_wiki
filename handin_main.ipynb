{
 "cells": [
  {
   "cell_type": "markdown",
   "id": "5f3f3abe",
   "metadata": {},
   "source": [
    "# Exploring Wikipedia in a Temporal Fashion\n",
    "Authors: Felix Borum Burmester & Christian Vestergaard Djurhuus.\n",
    "\n",
    "In this notebook, we will explore the temporal development of Marvel- and DC-Comics. We have used the Wikipedia Revisions api to scrape the Wikipedia pages of 2303 superheroes since the dawn of Wikipedia. We have used these pages to create a directed, temporal graph object that will allow us to understand the development of revisions.\n",
    "\n",
    "We have also webscraped meta data from lists of female, black, latino, and asian superheroes and villains. With this meta data we were able to appoint node attributes to our graph with the help of document similarity (since different websites may call superheroes by different versions of their names).\n",
    "\n",
    "Let's explore the data and its attributes!\n",
    "\n",
    "## Exploration of Basic Stats in Network\n",
    "### Node Analysis\n",
    "Let's view the number of nodes with each label by time:"
   ]
  },
  {
   "cell_type": "code",
   "execution_count": 1,
   "id": "93d5de8c",
   "metadata": {},
   "outputs": [],
   "source": [
    "#import libraries\n",
    "import pandas as pd\n",
    "import matplotlib.pyplot as plt\n",
    "import numpy as np\n",
    "\n",
    "#import data\n",
    "meta_df = pd.read_csv('metadataproject.csv')\n",
    "edgelist = pd.read_csv('corrected_edgelist.csv')"
   ]
  },
  {
   "cell_type": "code",
   "execution_count": null,
   "id": "1e6bc35a",
   "metadata": {},
   "outputs": [],
   "source": []
  }
 ],
 "metadata": {
  "kernelspec": {
   "display_name": "Python 3",
   "language": "python",
   "name": "python3"
  },
  "language_info": {
   "codemirror_mode": {
    "name": "ipython",
    "version": 3
   },
   "file_extension": ".py",
   "mimetype": "text/x-python",
   "name": "python",
   "nbconvert_exporter": "python",
   "pygments_lexer": "ipython3",
   "version": "3.8.8"
  }
 },
 "nbformat": 4,
 "nbformat_minor": 5
}
