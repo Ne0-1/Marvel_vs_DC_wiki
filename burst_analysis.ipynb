{
 "cells": [
  {
   "cell_type": "markdown",
   "id": "00a1f472",
   "metadata": {},
   "source": [
    "The burst analysis is based on the work done by Jonas S. Juul; \"Bursty growth of networks\".\n",
    "\n",
    "In our Wiki data we have the last revision for each year which will create a problem as we might only get the December bursts. We propose instead that we take the timestamp from when the article was first created and use the last revision of the same year as the node's edges and perform the same analysis as done in his article.\n",
    "\n",
    "Whenever a node, $v_t$ is added to the graph at time $t$, we check if the $v_t$ shares neighbours with $v_{t-1}$. If yes, we append the number of shared neighbours to a list, $\\textbf{l}$, and $0$ otherwise. We then take the sum of $\\textbf{l}$.\n",
    "\n",
    "We then permute the node creation timestamps and do the same test. This is done $n$ times and by the end we will have a distribution of sums over $\\textbf{l}$. Here the null-hypothesis is that the true sum of $\\textbf{l}$ does not deviate from the sum of $\\textbf{l}$ from randomly permuted timestamps."
   ]
  },
  {
   "cell_type": "code",
   "execution_count": 54,
   "id": "5173a6af",
   "metadata": {},
   "outputs": [],
   "source": [
    "import os\n",
    "import io\n",
    "import re\n",
    "import networkx as nx\n",
    "import netwulf as nw \n",
    "from tqdm import tqdm\n",
    "import numpy as np\n",
    "import pandas as pd\n",
    "import matplotlib.pyplot as plt"
   ]
  },
  {
   "cell_type": "code",
   "execution_count": 55,
   "id": "39cb79b1",
   "metadata": {},
   "outputs": [],
   "source": [
    "df_marvel = pd.read_csv(\"files/marvel.csv\", index_col=0, encoding='utf8')\n",
    "df_marvel = df_marvel[df_marvel[\"WikiLink\"].notna()]\n",
    "df_dc = pd.read_csv(\"files/dc.csv\", index_col=0, encoding='utf8')\n",
    "df_dc = df_dc[df_dc[\"WikiLink\"].notna()]\n",
    "\n",
    "df_marvel['universe'] = 'Marvel'\n",
    "df_dc['universe'] = 'DC'\n",
    "\n",
    "df_comics = pd.concat([df_marvel, df_dc], ignore_index=True, axis=0)\n",
    "df_comics['creation'] = np.empty(len(df_comics),dtype=\"<U10\")"
   ]
  },
  {
   "cell_type": "code",
   "execution_count": 47,
   "id": "f137292d",
   "metadata": {},
   "outputs": [
    {
     "name": "stderr",
     "output_type": "stream",
     "text": [
      "2303it [11:08,  3.44it/s]\n"
     ]
    }
   ],
   "source": [
    "import requests\n",
    "import datetime\n",
    "import json\n",
    "from tqdm import tqdm\n",
    "import numpy as np\n",
    "from urllib import request\n",
    "from urllib.parse import quote\n",
    "import os\n",
    "import pickle\n",
    "\n",
    "BASE_URL = \"http://en.wikipedia.org/w/api.php\"\n",
    "\n",
    "for idx, row in tqdm(df_comics.iloc[:].iterrows()):\n",
    "    wikilink = row[\"WikiLink\"]\n",
    "    character_name = row[\"CharacterName\"]\n",
    "    creations = []\n",
    "    for link in wikilink.split('|'):\n",
    "        \n",
    "        parameters = { 'action': 'query',\n",
    "                   'format': 'json',\n",
    "                   #'continue': '',\n",
    "                   'titles': link,\n",
    "                   'prop': 'revisions',\n",
    "                   'rvprop': 'timestamp',\n",
    "                   'rvdir': 'newer',\n",
    "                   'redirects': 'yes', #Took me a while to find this. Now we get pages\n",
    "                      #that we should be redirected to! (Achebe (comics) redirects to\n",
    "                      #achebe (character)!)\n",
    "                   'rvlimit': '1'}\n",
    "\n",
    "        wp_call = requests.get(BASE_URL, params=parameters)\n",
    "        response = wp_call.json()\n",
    "        try:\n",
    "            creation = response['query']['pages'][list(response['query']['pages'].keys())[0]]['revisions'][0]['timestamp']\n",
    "            creations.append(creation)\n",
    "        except:\n",
    "            pass\n",
    "    try:\n",
    "        \n",
    "        creations = min(creations)\n",
    "        df_comics['creation'][idx] = creations\n",
    "    except:\n",
    "        df_comics['creation'][idx] = 'Unknown'\n",
    "\n",
    "        "
   ]
  },
  {
   "cell_type": "code",
   "execution_count": 49,
   "id": "c014fe0f",
   "metadata": {},
   "outputs": [],
   "source": [
    "df_comics.to_csv('df_with_creation.csv')"
   ]
  },
  {
   "cell_type": "code",
   "execution_count": 56,
   "id": "3e90ed7c",
   "metadata": {},
   "outputs": [],
   "source": [
    "df_comics = pd.read_csv('df_with_creation.csv', index_col='Unnamed: 0')"
   ]
  },
  {
   "cell_type": "code",
   "execution_count": 57,
   "id": "a2c65f3f",
   "metadata": {},
   "outputs": [],
   "source": [
    "creations = dict(zip(df_comics['WikiLink'], df_comics['creation']))"
   ]
  },
  {
   "cell_type": "code",
   "execution_count": 58,
   "id": "03d58632",
   "metadata": {},
   "outputs": [],
   "source": [
    "graphs = {}\n",
    "for key in np.arange(2001,2023,1):\n",
    "    graphs[key] = nx.read_gml(f'graphs/DG_{key}')"
   ]
  },
  {
   "cell_type": "code",
   "execution_count": 59,
   "id": "c717c2d5",
   "metadata": {},
   "outputs": [],
   "source": [
    "#set node attributes:\n",
    "for key in graphs.keys():\n",
    "    nx.set_node_attributes(graphs[key], creations, 'creation')"
   ]
  },
  {
   "cell_type": "code",
   "execution_count": 60,
   "id": "676d2b16",
   "metadata": {},
   "outputs": [],
   "source": [
    "names_list_sorted = pd.DataFrame(df_comics.sort_values('creation')[['WikiLink','creation']])\n",
    "names_list_sorted = names_list_sorted.reset_index()"
   ]
  },
  {
   "cell_type": "code",
   "execution_count": 61,
   "id": "323d55d8",
   "metadata": {},
   "outputs": [],
   "source": [
    "import numpy as np\n",
    "def permute_names(list_of_chars, seed=0):\n",
    "    names = np.array(list_of_chars[['WikiLink','creation']])\n",
    "    np.random.seed(seed)\n",
    "    return pd.DataFrame(data = np.random.permutation(names), columns = ['WikiLink','creation'])"
   ]
  },
  {
   "cell_type": "code",
   "execution_count": 62,
   "id": "3288e78b",
   "metadata": {},
   "outputs": [],
   "source": [
    "def check_neighbours(G, v_t1, v_t2):\n",
    "    intersect = len(set(list(G.neighbors(v_t1))+list(G.predecessors(v_t1))).intersection(list(G.neighbors(v_t2))+list(G.predecessors(v_t2))))\n",
    "    union = len(set(list(G.neighbors(v_t1))+list(G.predecessors(v_t1))).union(list(G.neighbors(v_t2))+list(G.predecessors(v_t2))))\n",
    "    if intersect/union == 1:\n",
    "        return None\n",
    "    else:\n",
    "        return intersect"
   ]
  },
  {
   "cell_type": "code",
   "execution_count": 76,
   "id": "cb376b44",
   "metadata": {},
   "outputs": [],
   "source": [
    "def get_summed_list(G_dict, list_of_chars):\n",
    "    list_to_sum = []\n",
    "    for idx, node in list_of_chars.iterrows():\n",
    "        if idx == len(list_of_chars)-1:\n",
    "            return sum(list_to_sum)\n",
    "        v_t1 = node['WikiLink']\n",
    "        if node['creation'] != 'Unknown':\n",
    "            G = G_dict[int(node['creation'][:4])]\n",
    "        else:\n",
    "            G = G_dict[list(graphs.keys())[-1]]\n",
    "        try:\n",
    "            if list(G.neighbors(v_t1))+list(G.predecessors(v_t1)) == []:\n",
    "                continue\n",
    "        except:\n",
    "            continue\n",
    "        count = 1\n",
    "        while True:\n",
    "            try:\n",
    "                v_t2 = list_of_chars.iloc[idx+count]['WikiLink']\n",
    "            except IndexError:\n",
    "                return sum(list_to_sum)\n",
    "            try:\n",
    "                nincommon = check_neighbours(G, v_t1, v_t2)\n",
    "            except:\n",
    "                count += 1\n",
    "                continue\n",
    "            if nincommon == None:\n",
    "                count += 1\n",
    "            else:\n",
    "                list_to_sum.append(nincommon)\n",
    "                #idx += count\n",
    "                break\n",
    "    #return sum(list_to_sum)\n",
    "#Need to skip nodes that are not in graph"
   ]
  },
  {
   "cell_type": "code",
   "execution_count": 72,
   "id": "fea05519",
   "metadata": {},
   "outputs": [
    {
     "data": {
      "text/plain": [
       "2022"
      ]
     },
     "execution_count": 72,
     "metadata": {},
     "output_type": "execute_result"
    }
   ],
   "source": [
    "list(graphs.keys())[-1]"
   ]
  },
  {
   "cell_type": "code",
   "execution_count": 77,
   "id": "941a813f",
   "metadata": {},
   "outputs": [
    {
     "name": "stderr",
     "output_type": "stream",
     "text": [
      "100%|██████████| 1000/1000 [03:15<00:00,  5.11it/s]\n"
     ]
    }
   ],
   "source": [
    "# do permutation test:\n",
    "perm_sums = []\n",
    "for seed in tqdm(range(1000)):\n",
    "    permuted = permute_names(list_of_chars=names_list_sorted, seed=seed)\n",
    "    perm_sums.append(get_summed_list(graphs,permuted))"
   ]
  },
  {
   "cell_type": "code",
   "execution_count": 78,
   "id": "2743bdfc",
   "metadata": {},
   "outputs": [],
   "source": [
    "true_sum = get_summed_list(graphs, names_list_sorted)"
   ]
  },
  {
   "cell_type": "code",
   "execution_count": 84,
   "id": "9f30a5e3",
   "metadata": {},
   "outputs": [
    {
     "data": {
      "image/png": "[encoded data removed]",
      "text/plain": [
       "<Figure size 1080x360 with 1 Axes>"
      ]
     },
     "metadata": {},
     "output_type": "display_data"
    }
   ],
   "source": [
    "plt.style.use('ggplot')\n",
    "fig, ax = plt.subplots(figsize=(15,5))\n",
    "\n",
    "bins = np.arange(min(perm_sums), max(perm_sums), 2)\n",
    "\n",
    "\n",
    "hist, edges = np.histogram(perm_sums, bins=bins)\n",
    "\n",
    "x = (edges[1:]+edges[:-1])/2\n",
    "width = bins[1] - bins[0]\n",
    "\n",
    "ax.bar(x, hist,color='#023020', width=width*0.897, label='random graphs')\n",
    "ax.axvline(true_sum, label='true graph')\n",
    "\n",
    "\n",
    "\n",
    "\n",
    "ax.set_xlabel(\"no. burst nodes\", fontsize=30)\n",
    "\n",
    "ax.set_ylabel(\"counts\", fontsize=30)\n",
    "\n",
    "ax.legend(fontsize=20, loc='upper right')\n",
    "plt.tight_layout()\n",
    "plt.savefig('node_burst_detection.png')\n",
    "plt.show()"
   ]
  },
  {
   "cell_type": "code",
   "execution_count": 27,
   "id": "1102ef67",
   "metadata": {},
   "outputs": [],
   "source": [
    "def same_coms(G, list_of_chars):\n",
    "    list_to_sum = []\n",
    "    for idx, node in list_of_chars.iterrows():\n",
    "        if idx == len(list_of_chars)-1:\n",
    "            return sum(list_to_sum)\n",
    "        v_t1 = node['WikiLink']\n",
    "        try:\n",
    "            if list(G.neighbors(v_t1)) == []:\n",
    "                continue\n",
    "        except:\n",
    "            continue\n",
    "        count = 1\n",
    "        while True:\n",
    "            try:\n",
    "                v_t2 = list_of_chars.iloc[idx+count]['WikiLink']\n",
    "            except IndexError:\n",
    "                return sum(list_to_sum)\n",
    "            try:\n",
    "                nincommon = check_neighbours(G, v_t1, v_t2)\n",
    "            except:\n",
    "                count += 1\n",
    "                continue\n",
    "            if nincommon == None:\n",
    "                count += 1\n",
    "            else:\n",
    "                list_to_sum.append(nincommon)\n",
    "                #idx += count\n",
    "                break"
   ]
  },
  {
   "cell_type": "code",
   "execution_count": 28,
   "id": "c0c7192a",
   "metadata": {},
   "outputs": [
    {
     "data": {
      "text/plain": [
       "1591"
      ]
     },
     "execution_count": 28,
     "metadata": {},
     "output_type": "execute_result"
    }
   ],
   "source": [
    "same_coms(graphs[2022], names_list_sorted)"
   ]
  },
  {
   "cell_type": "code",
   "execution_count": null,
   "id": "a846afb1",
   "metadata": {},
   "outputs": [],
   "source": [
    "#plt.style.use('ggplot')\n",
    "#plt.scatter(np.arange(len(sorted_ts_dict)), same_coms(sorted_ts_dict), marker='x', s=0.5)"
   ]
  }
 ],
 "metadata": {
  "kernelspec": {
   "display_name": "Python 3",
   "language": "python",
   "name": "python3"
  },
  "language_info": {
   "codemirror_mode": {
    "name": "ipython",
    "version": 3
   },
   "file_extension": ".py",
   "mimetype": "text/x-python",
   "name": "python",
   "nbconvert_exporter": "python",
   "pygments_lexer": "ipython3",
   "version": "3.8.8"
  }
 },
 "nbformat": 4,
 "nbformat_minor": 5
}
