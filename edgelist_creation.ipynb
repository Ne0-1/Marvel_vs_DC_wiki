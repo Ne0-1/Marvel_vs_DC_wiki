{
 "cells": [
  {
   "cell_type": "markdown",
   "id": "5fb01e55",
   "metadata": {},
   "source": [
    "# Edgelist creation"
   ]
  },
  {
   "cell_type": "code",
   "execution_count": 1,
   "id": "eec03a7e",
   "metadata": {},
   "outputs": [],
   "source": [
    "import os\n",
    "import io\n",
    "import re\n",
    "import networkx as nx\n",
    "import netwulf as nw \n",
    "from tqdm import tqdm\n",
    "import numpy as np\n",
    "import pandas as pd\n",
    "import matplotlib.pyplot as plt"
   ]
  },
  {
   "cell_type": "code",
   "execution_count": 2,
   "id": "d37dde88",
   "metadata": {},
   "outputs": [],
   "source": [
    "df_marvel = pd.read_csv(\"../files/marvel.csv\", index_col=0, encoding='utf8')\n",
    "df_marvel = df_marvel[df_marvel[\"WikiLink\"].notna()]\n",
    "df_dc = pd.read_csv(\"../files/dc.csv\", index_col=0, encoding='utf8')\n",
    "df_dc = df_dc[df_dc[\"WikiLink\"].notna()]\n",
    "\n",
    "df_marvel['universe'] = 'Marvel'\n",
    "df_dc['universe'] = 'DC'\n",
    "\n",
    "df = pd.concat([df_marvel, df_dc], ignore_index=True, axis=0)"
   ]
  },
  {
   "cell_type": "code",
   "execution_count": 3,
   "id": "b27bd9bb",
   "metadata": {},
   "outputs": [],
   "source": [
    "def scan_folder(parent, timestamp = None, wikitexts = None):\n",
    "    # iterate over all the files in directory 'parent'\n",
    "    #print(parent)\n",
    "    if wikitexts == None:\n",
    "        wikitexts = []\n",
    "    for file_name in os.listdir(parent):\n",
    "        if file_name.endswith(\".txt\"):\n",
    "            # if it's a txt file, print its name (or do whatever you want)\n",
    "            if timestamp != None:\n",
    "                #TODO implement timestamp choice\n",
    "                x = None\n",
    "            else:\n",
    "                f = io.open(parent+'/'+file_name, 'r', encoding='utf-8').read()\n",
    "                wikitexts.append((file_name[-23:-16].replace('.txt',''),f))\n",
    "        else:\n",
    "            current_path = \"\".join((parent, \"/\", file_name))\n",
    "            if os.path.isdir(current_path):\n",
    "                # if we're checking a sub-directory, recursively call this method\n",
    "                scan_folder(current_path, timestamp=timestamp, wikitexts=wikitexts)\n",
    "    \n",
    "    return wikitexts"
   ]
  },
  {
   "cell_type": "code",
   "execution_count": 4,
   "id": "f08db5f2",
   "metadata": {},
   "outputs": [],
   "source": [
    "WikiLinks = df.WikiLink.tolist()\n",
    "danger_zone = ['marvel',\n",
    "'marvel cinematic universe',\n",
    "'mcu',\n",
    "'marvel comics character',\n",
    "'marvel comics',\n",
    "'character',\n",
    "'comic book',\n",
    "'comics',\n",
    "'comics character',\n",
    "'film series character',\n",
    "'ultimate marvel character',\n",
    "'dc comics',\n",
    "'dc comics character',\n",
    "'x-men',\n",
    "'fantastic four',\n",
    "'fiction',\n",
    "'ion']\n",
    "\n",
    "danger_zone2 = ['('+x.lower()+')' for x in danger_zone]\n",
    "danger_zone3 = [x.lower() for x in danger_zone] + danger_zone2"
   ]
  },
  {
   "cell_type": "code",
   "execution_count": 8,
   "id": "69ba0305",
   "metadata": {},
   "outputs": [],
   "source": [
    "path_folder = 'superheroes/'\n",
    "link_name_map = dict(zip(df.CharacterName.tolist(), WikiLinks))\n",
    "link_re = re.compile(r\"\\[\\[(.*?)\\]\\]\")"
   ]
  },
  {
   "cell_type": "code",
   "execution_count": 14,
   "id": "b29f3db9",
   "metadata": {},
   "outputs": [],
   "source": [
    "edgelist = pd.DataFrame(columns=['source', 'target', 'timestamp'])"
   ]
  },
  {
   "cell_type": "code",
   "execution_count": 15,
   "id": "ab4b0573",
   "metadata": {},
   "outputs": [
    {
     "data": {
      "text/html": [
       "<div>\n",
       "<style scoped>\n",
       "    .dataframe tbody tr th:only-of-type {\n",
       "        vertical-align: middle;\n",
       "    }\n",
       "\n",
       "    .dataframe tbody tr th {\n",
       "        vertical-align: top;\n",
       "    }\n",
       "\n",
       "    .dataframe thead th {\n",
       "        text-align: right;\n",
       "    }\n",
       "</style>\n",
       "<table border=\"1\" class=\"dataframe\">\n",
       "  <thead>\n",
       "    <tr style=\"text-align: right;\">\n",
       "      <th></th>\n",
       "      <th>source</th>\n",
       "      <th>target</th>\n",
       "      <th>timestamp</th>\n",
       "    </tr>\n",
       "  </thead>\n",
       "  <tbody>\n",
       "  </tbody>\n",
       "</table>\n",
       "</div>"
      ],
      "text/plain": [
       "Empty DataFrame\n",
       "Columns: [source, target, timestamp]\n",
       "Index: []"
      ]
     },
     "execution_count": 15,
     "metadata": {},
     "output_type": "execute_result"
    }
   ],
   "source": [
    "edgelist"
   ]
  },
  {
   "cell_type": "code",
   "execution_count": 28,
   "id": "a362f27b",
   "metadata": {},
   "outputs": [
    {
     "name": "stderr",
     "output_type": "stream",
     "text": [
      "1677it [20:20,  1.44it/s]"
     ]
    },
    {
     "name": "stdout",
     "output_type": "stream",
     "text": [
      "The following error occured: [Errno 2] No such file or directory: 'superheroes/Vidar/'\n"
     ]
    },
    {
     "name": "stderr",
     "output_type": "stream",
     "text": [
      "2260it [39:13,  1.84s/it]"
     ]
    },
    {
     "name": "stdout",
     "output_type": "stream",
     "text": [
      "The following error occured: [Errno 2] No such file or directory: 'superheroes/Viperie/'\n"
     ]
    },
    {
     "name": "stderr",
     "output_type": "stream",
     "text": [
      "2265it [39:23,  2.81s/it]"
     ]
    },
    {
     "name": "stdout",
     "output_type": "stream",
     "text": [
      "The following error occured: [Errno 2] No such file or directory: 'superheroes/Vizacacha/'\n"
     ]
    },
    {
     "name": "stderr",
     "output_type": "stream",
     "text": [
      "2269it [39:26,  1.44s/it]"
     ]
    },
    {
     "name": "stdout",
     "output_type": "stream",
     "text": [
      "The following error occured: [Errno 2] No such file or directory: 'superheroes/Volthoom/'\n"
     ]
    },
    {
     "name": "stderr",
     "output_type": "stream",
     "text": [
      "2277it [39:43,  2.45s/it]"
     ]
    },
    {
     "name": "stdout",
     "output_type": "stream",
     "text": [
      "The following error occured: [Errno 2] No such file or directory: 'superheroes/Vroom, Hans/'\n",
      "The following error occured: [Errno 2] No such file or directory: 'superheroes/Vul, Tri/'\n"
     ]
    },
    {
     "name": "stderr",
     "output_type": "stream",
     "text": [
      "2281it [39:45,  1.30s/it]"
     ]
    },
    {
     "name": "stdout",
     "output_type": "stream",
     "text": [
      "The following error occured: [Errno 2] No such file or directory: \"superheroes/X' Hal/\"\n",
      "The following error occured: [Errno 2] No such file or directory: 'superheroes/X-2-Y/'\n",
      "The following error occured: [Errno 2] No such file or directory: 'superheroes/X-5 Super Agent/'\n",
      "The following error occured: [Errno 2] No such file or directory: 'superheroes/X/'\n"
     ]
    },
    {
     "name": "stderr",
     "output_type": "stream",
     "text": [
      "2287it [39:45,  1.80it/s]"
     ]
    },
    {
     "name": "stdout",
     "output_type": "stream",
     "text": [
      "The following error occured: [Errno 2] No such file or directory: 'superheroes/Xardo/'\n",
      "The following error occured: [Errno 2] No such file or directory: 'superheroes/Xasnu/'\n",
      "The following error occured: [Errno 2] No such file or directory: 'superheroes/X-Bomb Betty/'\n",
      "The following error occured: [Errno 2] No such file or directory: 'superheroes/Xenofobe/'\n",
      "The following error occured: [Errno 2] No such file or directory: 'superheroes/Xeo/'\n",
      "The following error occured: [Errno 2] No such file or directory: 'superheroes/Xera/'\n",
      "The following error occured: [Errno 2] No such file or directory: 'superheroes/Xero/'\n",
      "The following error occured: [Errno 2] No such file or directory: 'superheroes/Xiang-Fa/'\n"
     ]
    },
    {
     "name": "stderr",
     "output_type": "stream",
     "text": [
      "2298it [39:53,  1.36it/s]"
     ]
    },
    {
     "name": "stdout",
     "output_type": "stream",
     "text": [
      "The following error occured: [Errno 2] No such file or directory: 'superheroes/Xov/'\n"
     ]
    },
    {
     "name": "stderr",
     "output_type": "stream",
     "text": [
      "2303it [39:55,  1.04s/it]\n"
     ]
    }
   ],
   "source": [
    "for idx, row in tqdm(df.iterrows()):\n",
    "    try:\n",
    "        wikipages = scan_folder(path_folder + row.CharacterName + '/')\n",
    "        source_node = link_name_map[row.CharacterName]\n",
    "\n",
    "        for timestamp, page in wikipages:\n",
    "            links = re.findall(link_re, page)\n",
    "            for link in links:\n",
    "                status=False\n",
    "                combined = '\\t'.join(WikiLinks)\n",
    "\n",
    "                if link in WikiLinks:\n",
    "                    edgelist = edgelist.append({'source':source_node, 'target':link, 'timestamp':timestamp}, ignore_index=True)\n",
    "\n",
    "                #Checking corner cases\n",
    "                elif link in combined and link.lower() not in danger_zone3:\n",
    "                    for wikilink in WikiLinks:\n",
    "                        if link in wikilink:\n",
    "                            edgelist = edgelist.append({'source':source_node, 'target':wikilink, 'timestamp':timestamp}, ignore_index=True)\n",
    "                            status = True\n",
    "                            break\n",
    "\n",
    "                        elif '|' in link:\n",
    "                            for name in link.split('|'):\n",
    "                                if name == wikilink.split('|')[0]:\n",
    "                                    edgelist = edgelist.append({'source':source_node, 'target':wikilink, 'timestamp':timestamp}, ignore_index=True)\n",
    "                                    status=True\n",
    "                                    break\n",
    "\n",
    "                            if status==True:\n",
    "                                break\n",
    "\n",
    "    except Exception as e:\n",
    "        print(f'The following error occured: {e}')"
   ]
  },
  {
   "cell_type": "code",
   "execution_count": 29,
   "id": "165350a6",
   "metadata": {},
   "outputs": [
    {
     "data": {
      "text/html": [
       "<div>\n",
       "<style scoped>\n",
       "    .dataframe tbody tr th:only-of-type {\n",
       "        vertical-align: middle;\n",
       "    }\n",
       "\n",
       "    .dataframe tbody tr th {\n",
       "        vertical-align: top;\n",
       "    }\n",
       "\n",
       "    .dataframe thead th {\n",
       "        text-align: right;\n",
       "    }\n",
       "</style>\n",
       "<table border=\"1\" class=\"dataframe\">\n",
       "  <thead>\n",
       "    <tr style=\"text-align: right;\">\n",
       "      <th></th>\n",
       "      <th>source</th>\n",
       "      <th>target</th>\n",
       "      <th>timestamp</th>\n",
       "    </tr>\n",
       "  </thead>\n",
       "  <tbody>\n",
       "    <tr>\n",
       "      <th>0</th>\n",
       "      <td>Abomination (character)</td>\n",
       "      <td>Silver Surfer</td>\n",
       "      <td>2014-12</td>\n",
       "    </tr>\n",
       "    <tr>\n",
       "      <th>1</th>\n",
       "      <td>Abomination (character)</td>\n",
       "      <td>Thor (Marvel Comics)</td>\n",
       "      <td>2014-12</td>\n",
       "    </tr>\n",
       "    <tr>\n",
       "      <th>2</th>\n",
       "      <td>Abomination (character)</td>\n",
       "      <td>Sprocket (comics)</td>\n",
       "      <td>2014-12</td>\n",
       "    </tr>\n",
       "    <tr>\n",
       "      <th>3</th>\n",
       "      <td>Abomination (character)</td>\n",
       "      <td>Glenn Talbot</td>\n",
       "      <td>2014-12</td>\n",
       "    </tr>\n",
       "    <tr>\n",
       "      <th>4</th>\n",
       "      <td>Abomination (character)</td>\n",
       "      <td>MODOK</td>\n",
       "      <td>2014-12</td>\n",
       "    </tr>\n",
       "  </tbody>\n",
       "</table>\n",
       "</div>"
      ],
      "text/plain": [
       "                    source                target timestamp\n",
       "0  Abomination (character)         Silver Surfer   2014-12\n",
       "1  Abomination (character)  Thor (Marvel Comics)   2014-12\n",
       "2  Abomination (character)     Sprocket (comics)   2014-12\n",
       "3  Abomination (character)          Glenn Talbot   2014-12\n",
       "4  Abomination (character)                 MODOK   2014-12"
      ]
     },
     "execution_count": 29,
     "metadata": {},
     "output_type": "execute_result"
    }
   ],
   "source": [
    "edgelist.head()"
   ]
  },
  {
   "cell_type": "code",
   "execution_count": 30,
   "id": "af410183",
   "metadata": {},
   "outputs": [],
   "source": [
    "#edgelist.to_csv(\"edgelist.csv\", index=False)"
   ]
  },
  {
   "cell_type": "code",
   "execution_count": 36,
   "id": "a4eba607",
   "metadata": {},
   "outputs": [],
   "source": [
    "edgelist['timestamp'] = [time[:4] for time in edgelist['timestamp']]"
   ]
  },
  {
   "cell_type": "code",
   "execution_count": 66,
   "id": "18404e02",
   "metadata": {},
   "outputs": [],
   "source": [
    "#edgelist.to_csv(\"edgelist_agg.csv\", index=False)"
   ]
  },
  {
   "cell_type": "code",
   "execution_count": 194,
   "id": "8d62603a",
   "metadata": {},
   "outputs": [
    {
     "data": {
      "text/html": [
       "<div>\n",
       "<style scoped>\n",
       "    .dataframe tbody tr th:only-of-type {\n",
       "        vertical-align: middle;\n",
       "    }\n",
       "\n",
       "    .dataframe tbody tr th {\n",
       "        vertical-align: top;\n",
       "    }\n",
       "\n",
       "    .dataframe thead th {\n",
       "        text-align: right;\n",
       "    }\n",
       "</style>\n",
       "<table border=\"1\" class=\"dataframe\">\n",
       "  <thead>\n",
       "    <tr style=\"text-align: right;\">\n",
       "      <th></th>\n",
       "      <th>source</th>\n",
       "      <th>target</th>\n",
       "      <th>timestamp</th>\n",
       "    </tr>\n",
       "  </thead>\n",
       "  <tbody>\n",
       "    <tr>\n",
       "      <th>0</th>\n",
       "      <td>Abomination (character)</td>\n",
       "      <td>Silver Surfer</td>\n",
       "      <td>2014</td>\n",
       "    </tr>\n",
       "    <tr>\n",
       "      <th>1</th>\n",
       "      <td>Abomination (character)</td>\n",
       "      <td>Thor (Marvel Comics)</td>\n",
       "      <td>2014</td>\n",
       "    </tr>\n",
       "    <tr>\n",
       "      <th>2</th>\n",
       "      <td>Abomination (character)</td>\n",
       "      <td>Sprocket (comics)</td>\n",
       "      <td>2014</td>\n",
       "    </tr>\n",
       "    <tr>\n",
       "      <th>3</th>\n",
       "      <td>Abomination (character)</td>\n",
       "      <td>Glenn Talbot</td>\n",
       "      <td>2014</td>\n",
       "    </tr>\n",
       "    <tr>\n",
       "      <th>4</th>\n",
       "      <td>Abomination (character)</td>\n",
       "      <td>MODOK</td>\n",
       "      <td>2014</td>\n",
       "    </tr>\n",
       "  </tbody>\n",
       "</table>\n",
       "</div>"
      ],
      "text/plain": [
       "                    source                target  timestamp\n",
       "0  Abomination (character)         Silver Surfer       2014\n",
       "1  Abomination (character)  Thor (Marvel Comics)       2014\n",
       "2  Abomination (character)     Sprocket (comics)       2014\n",
       "3  Abomination (character)          Glenn Talbot       2014\n",
       "4  Abomination (character)                 MODOK       2014"
      ]
     },
     "execution_count": 194,
     "metadata": {},
     "output_type": "execute_result"
    }
   ],
   "source": [
    "edgelist = pd.read_csv(\"edgelist_agg.csv\")\n",
    "edgelist.head()"
   ]
  },
  {
   "cell_type": "markdown",
   "id": "91f496b0",
   "metadata": {},
   "source": [
    "# Descriptive statistics of edges"
   ]
  },
  {
   "cell_type": "code",
   "execution_count": 172,
   "id": "1c923381",
   "metadata": {},
   "outputs": [
    {
     "data": {
      "text/plain": [
       "timestamp\n",
       "2001       45\n",
       "2002      140\n",
       "2003      392\n",
       "2004     1556\n",
       "2005     5268\n",
       "2006    10942\n",
       "2007    13546\n",
       "2008    15218\n",
       "2009    17038\n",
       "2010    18304\n",
       "2011    18660\n",
       "2012    19394\n",
       "2013    20118\n",
       "2014    20289\n",
       "2015    21689\n",
       "2016    22347\n",
       "2017    23024\n",
       "2018    23660\n",
       "2019    24135\n",
       "2020    24762\n",
       "2021    24961\n",
       "2022    24237\n",
       "dtype: int64"
      ]
     },
     "execution_count": 172,
     "metadata": {},
     "output_type": "execute_result"
    }
   ],
   "source": [
    "counts = edgelist.groupby(\"timestamp\").size()\n",
    "counts"
   ]
  },
  {
   "cell_type": "code",
   "execution_count": 51,
   "id": "e87b92bf",
   "metadata": {},
   "outputs": [],
   "source": [
    "import matplotlib as mpl"
   ]
  },
  {
   "cell_type": "code",
   "execution_count": 56,
   "id": "302deb38",
   "metadata": {},
   "outputs": [],
   "source": [
    "def setup_mpl():\n",
    "    mpl.rcParams['font.family'] = \"Times New Roman\"\n",
    "    return\n",
    "setup_mpl()"
   ]
  },
  {
   "cell_type": "code",
   "execution_count": 65,
   "id": "42f02619",
   "metadata": {},
   "outputs": [
    {
     "data": {
      "image/png": "[encoded data removed]",
      "text/plain": [
       "<Figure size 1000x500 with 1 Axes>"
      ]
     },
     "metadata": {
      "needs_background": "light"
     },
     "output_type": "display_data"
    }
   ],
   "source": [
    "fig, ax = plt.subplots(figsize=(10,5), dpi=100)\n",
    "ax.plot(counts.index, counts.values, '-o', c='darkblue')\n",
    "ax.set_title(\"Number of links for each snapshot\")\n",
    "ax.set_ylabel(\"Counts\")\n",
    "#ax.set_yscale(\"log\")\n",
    "ax.grid()\n",
    "plt.xticks(rotation=45)\n",
    "plt.tight_layout()\n",
    "plt.show()"
   ]
  },
  {
   "cell_type": "markdown",
   "id": "f9c05b16",
   "metadata": {},
   "source": [
    "# Investigation of issue with edgelist\n",
    "The above edgelist depends on the wikipage being revised every year after the page has been introduced. This could potentially create some tricky corner cases, where a wikipage have remained unaltered doing a specific year. Hence, the edgelist will be empty for that specific year, which is not correct given that the wikipage is still present eventhough it has not been altered."
   ]
  },
  {
   "cell_type": "code",
   "execution_count": 195,
   "id": "0220c15a",
   "metadata": {},
   "outputs": [],
   "source": [
    "temp = edgelist.groupby([\"source\", \"timestamp\"]).size().reset_index()"
   ]
  },
  {
   "cell_type": "code",
   "execution_count": 144,
   "id": "c7388bc9",
   "metadata": {},
   "outputs": [
    {
     "data": {
      "text/html": [
       "<div>\n",
       "<style scoped>\n",
       "    .dataframe tbody tr th:only-of-type {\n",
       "        vertical-align: middle;\n",
       "    }\n",
       "\n",
       "    .dataframe tbody tr th {\n",
       "        vertical-align: top;\n",
       "    }\n",
       "\n",
       "    .dataframe thead th {\n",
       "        text-align: right;\n",
       "    }\n",
       "</style>\n",
       "<table border=\"1\" class=\"dataframe\">\n",
       "  <thead>\n",
       "    <tr style=\"text-align: right;\">\n",
       "      <th></th>\n",
       "      <th>source</th>\n",
       "      <th>timestamp</th>\n",
       "      <th>0</th>\n",
       "    </tr>\n",
       "  </thead>\n",
       "  <tbody>\n",
       "    <tr>\n",
       "      <th>0</th>\n",
       "      <td>3-D Man</td>\n",
       "      <td>2007</td>\n",
       "      <td>2</td>\n",
       "    </tr>\n",
       "    <tr>\n",
       "      <th>1</th>\n",
       "      <td>3-D Man</td>\n",
       "      <td>2008</td>\n",
       "      <td>3</td>\n",
       "    </tr>\n",
       "    <tr>\n",
       "      <th>2</th>\n",
       "      <td>3-D Man</td>\n",
       "      <td>2009</td>\n",
       "      <td>6</td>\n",
       "    </tr>\n",
       "    <tr>\n",
       "      <th>3</th>\n",
       "      <td>3-D Man</td>\n",
       "      <td>2010</td>\n",
       "      <td>6</td>\n",
       "    </tr>\n",
       "    <tr>\n",
       "      <th>4</th>\n",
       "      <td>3-D Man</td>\n",
       "      <td>2011</td>\n",
       "      <td>5</td>\n",
       "    </tr>\n",
       "    <tr>\n",
       "      <th>5</th>\n",
       "      <td>3-D Man</td>\n",
       "      <td>2012</td>\n",
       "      <td>5</td>\n",
       "    </tr>\n",
       "    <tr>\n",
       "      <th>6</th>\n",
       "      <td>3-D Man</td>\n",
       "      <td>2013</td>\n",
       "      <td>5</td>\n",
       "    </tr>\n",
       "    <tr>\n",
       "      <th>7</th>\n",
       "      <td>3-D Man</td>\n",
       "      <td>2014</td>\n",
       "      <td>5</td>\n",
       "    </tr>\n",
       "    <tr>\n",
       "      <th>8</th>\n",
       "      <td>3-D Man</td>\n",
       "      <td>2015</td>\n",
       "      <td>5</td>\n",
       "    </tr>\n",
       "    <tr>\n",
       "      <th>9</th>\n",
       "      <td>3-D Man</td>\n",
       "      <td>2016</td>\n",
       "      <td>5</td>\n",
       "    </tr>\n",
       "    <tr>\n",
       "      <th>10</th>\n",
       "      <td>3-D Man</td>\n",
       "      <td>2017</td>\n",
       "      <td>5</td>\n",
       "    </tr>\n",
       "    <tr>\n",
       "      <th>11</th>\n",
       "      <td>3-D Man</td>\n",
       "      <td>2018</td>\n",
       "      <td>4</td>\n",
       "    </tr>\n",
       "    <tr>\n",
       "      <th>12</th>\n",
       "      <td>3-D Man</td>\n",
       "      <td>2019</td>\n",
       "      <td>5</td>\n",
       "    </tr>\n",
       "    <tr>\n",
       "      <th>13</th>\n",
       "      <td>3-D Man</td>\n",
       "      <td>2020</td>\n",
       "      <td>5</td>\n",
       "    </tr>\n",
       "    <tr>\n",
       "      <th>14</th>\n",
       "      <td>3-D Man</td>\n",
       "      <td>2021</td>\n",
       "      <td>5</td>\n",
       "    </tr>\n",
       "  </tbody>\n",
       "</table>\n",
       "</div>"
      ],
      "text/plain": [
       "     source  timestamp  0\n",
       "0   3-D Man       2007  2\n",
       "1   3-D Man       2008  3\n",
       "2   3-D Man       2009  6\n",
       "3   3-D Man       2010  6\n",
       "4   3-D Man       2011  5\n",
       "5   3-D Man       2012  5\n",
       "6   3-D Man       2013  5\n",
       "7   3-D Man       2014  5\n",
       "8   3-D Man       2015  5\n",
       "9   3-D Man       2016  5\n",
       "10  3-D Man       2017  5\n",
       "11  3-D Man       2018  4\n",
       "12  3-D Man       2019  5\n",
       "13  3-D Man       2020  5\n",
       "14  3-D Man       2021  5"
      ]
     },
     "execution_count": 144,
     "metadata": {},
     "output_type": "execute_result"
    }
   ],
   "source": [
    "temp.head(15)"
   ]
  },
  {
   "cell_type": "code",
   "execution_count": 196,
   "id": "811af8b8",
   "metadata": {},
   "outputs": [
    {
     "data": {
      "text/plain": [
       "349725"
      ]
     },
     "execution_count": 196,
     "metadata": {},
     "output_type": "execute_result"
    }
   ],
   "source": [
    "len(edgelist)"
   ]
  },
  {
   "cell_type": "code",
   "execution_count": 197,
   "id": "c43e90c7",
   "metadata": {},
   "outputs": [],
   "source": [
    "counter = 0\n",
    "superheroes = list(edgelist.source.unique())\n",
    "for superhero in superheroes:\n",
    "    years = sorted(temp[temp['source']==superhero].timestamp.values)\n",
    "    for previous, current in zip(years, years[1:]):\n",
    "        if int(current) - int(previous) > 1:\n",
    "            prev_links = edgelist[(edgelist['source']==superhero)&(edgelist['timestamp']==previous)]\n",
    "            for single_date in (int(previous) + n for n in range(1,int(current) - int(previous))):\n",
    "                #prev_links['timestamp'] = [str(single_date)]*len(prev_links)\n",
    "                prev_links = prev_links.assign(timestamp=single_date)\n",
    "                edgelist = edgelist.append(prev_links, ignore_index=True)"
   ]
  },
  {
   "cell_type": "code",
   "execution_count": 176,
   "id": "9394884c",
   "metadata": {},
   "outputs": [
    {
     "data": {
      "text/plain": [
       "356176"
      ]
     },
     "execution_count": 176,
     "metadata": {},
     "output_type": "execute_result"
    }
   ],
   "source": [
    "len(edgelist)"
   ]
  },
  {
   "cell_type": "code",
   "execution_count": 152,
   "id": "c79f97f9",
   "metadata": {},
   "outputs": [],
   "source": [
    "temp = edgelist.groupby([\"source\", \"timestamp\"]).size().reset_index()"
   ]
  },
  {
   "cell_type": "code",
   "execution_count": 101,
   "id": "a7b3bdad",
   "metadata": {},
   "outputs": [
    {
     "name": "stdout",
     "output_type": "stream",
     "text": [
      "2012\n",
      "2013\n",
      "2014\n",
      "2015\n",
      "2016\n",
      "2017\n",
      "2018\n",
      "2019\n"
     ]
    }
   ],
   "source": [
    "previous = 2011\n",
    "current = 2020\n",
    "for single_date in (previous + n for n in range(1,current - previous)):\n",
    "    print(single_date)"
   ]
  },
  {
   "cell_type": "code",
   "execution_count": 206,
   "id": "e384b040",
   "metadata": {},
   "outputs": [],
   "source": [
    "counter = 0\n",
    "superheroes = list(edgelist.source.unique())\n",
    "for superhero in superheroes:\n",
    "    years = sorted(temp[temp['source']==superhero].timestamp.values)\n",
    "    for previous, current in zip(years, years[1:]):\n",
    "        if int(current) - int(previous) > 1:\n",
    "            print(superhero)\n",
    "            print(previous, current)\n",
    "            counter += 1"
   ]
  },
  {
   "cell_type": "code",
   "execution_count": 207,
   "id": "0dd376b7",
   "metadata": {},
   "outputs": [
    {
     "data": {
      "text/plain": [
       "0"
      ]
     },
     "execution_count": 207,
     "metadata": {},
     "output_type": "execute_result"
    }
   ],
   "source": [
    "counter"
   ]
  },
  {
   "cell_type": "markdown",
   "id": "581995fd",
   "metadata": {},
   "source": [
    "This solved the issue with gap between revision years, but we still have an issue with pages not being altered in 2022 but has been altered in 2021, which would not be discovered by the above code."
   ]
  },
  {
   "cell_type": "code",
   "execution_count": 205,
   "id": "b108fb61",
   "metadata": {},
   "outputs": [
    {
     "name": "stdout",
     "output_type": "stream",
     "text": [
      "0\n"
     ]
    }
   ],
   "source": [
    "counter = 0\n",
    "superheroes = list(edgelist.source.unique())\n",
    "for superhero in superheroes:\n",
    "    years = sorted(temp[temp['source']==superhero].timestamp.values)\n",
    "    if 2022 not in years and 2021 in years:\n",
    "        counter += 1\n",
    "print(counter)"
   ]
  },
  {
   "cell_type": "code",
   "execution_count": 179,
   "id": "9be531eb",
   "metadata": {},
   "outputs": [],
   "source": [
    "counter = 0\n",
    "superheroes = list(edgelist.source.unique())\n",
    "for superhero in superheroes:\n",
    "    years = sorted(temp[temp['source']==superhero].timestamp.values)\n",
    "    if 2022 not in years and 2021 in years:\n",
    "        prev_link = edgelist[(edgelist.source==superhero)&(edgelist.timestamp==2021)]\n",
    "        prev_link = prev_links.assign(timestamp=2022)\n",
    "        edgelist = edgelist.append(prev_link, ignore_index=True)"
   ]
  },
  {
   "cell_type": "code",
   "execution_count": null,
   "id": "47d4635a",
   "metadata": {},
   "outputs": [],
   "source": []
  },
  {
   "cell_type": "code",
   "execution_count": 155,
   "id": "242f5c18",
   "metadata": {},
   "outputs": [],
   "source": []
  },
  {
   "cell_type": "markdown",
   "id": "ae3c14e6",
   "metadata": {},
   "source": [
    "# Descriptive statistics on corrected edgelist "
   ]
  },
  {
   "cell_type": "code",
   "execution_count": 180,
   "id": "e1296ee9",
   "metadata": {},
   "outputs": [
    {
     "data": {
      "text/plain": [
       "timestamp\n",
       "2001       45\n",
       "2002      140\n",
       "2003      399\n",
       "2004     1557\n",
       "2005     5278\n",
       "2006    10963\n",
       "2007    13586\n",
       "2008    15297\n",
       "2009    17223\n",
       "2010    18483\n",
       "2011    19216\n",
       "2012    19905\n",
       "2013    20639\n",
       "2014    21390\n",
       "2015    22142\n",
       "2016    22929\n",
       "2017    23758\n",
       "2018    24037\n",
       "2019    24676\n",
       "2020    25141\n",
       "2021    25135\n",
       "2022    24433\n",
       "dtype: int64"
      ]
     },
     "execution_count": 180,
     "metadata": {},
     "output_type": "execute_result"
    }
   ],
   "source": [
    "counts = edgelist.groupby(\"timestamp\").size()\n",
    "counts"
   ]
  },
  {
   "cell_type": "code",
   "execution_count": 181,
   "id": "75a15e33",
   "metadata": {},
   "outputs": [
    {
     "data": {
      "image/png": "[encoded data removed]",
      "text/plain": [
       "<Figure size 1000x500 with 1 Axes>"
      ]
     },
     "metadata": {
      "needs_background": "light"
     },
     "output_type": "display_data"
    }
   ],
   "source": [
    "fig, ax = plt.subplots(figsize=(10,5), dpi=100)\n",
    "ax.plot(counts.index, counts.values, '-o', c='darkblue')\n",
    "ax.set_title(\"Number of links for each snapshot\")\n",
    "ax.set_ylabel(\"Counts\")\n",
    "#ax.set_yscale(\"log\")\n",
    "ax.grid()\n",
    "plt.xticks(rotation=45)\n",
    "plt.tight_layout()\n",
    "plt.show()"
   ]
  },
  {
   "cell_type": "markdown",
   "id": "84a86c4c",
   "metadata": {},
   "source": [
    "We still see a perculiar dip in the number of links at year 2022. It could perhaps be caused by wikipages not being revised after a certain year e.g. 2011. We assume that it is reasonable to treat this case, as the page remaining the same from the last year up to 2022, given that we know that the page exist. Otherwise, we would not have been able to find the page in the first place."
   ]
  },
  {
   "cell_type": "code",
   "execution_count": 198,
   "id": "52556361",
   "metadata": {},
   "outputs": [],
   "source": [
    "temp = edgelist.groupby([\"source\", \"timestamp\"]).size().reset_index()"
   ]
  },
  {
   "cell_type": "code",
   "execution_count": 204,
   "id": "58f00afb",
   "metadata": {},
   "outputs": [
    {
     "name": "stdout",
     "output_type": "stream",
     "text": [
      "0\n"
     ]
    }
   ],
   "source": [
    "counter = 0\n",
    "superheroes = list(edgelist.source.unique())\n",
    "for superhero in superheroes:\n",
    "    years = sorted(temp[temp['source']==superhero].timestamp.values)\n",
    "    last_year = max(years)\n",
    "    if last_year != 2022:\n",
    "        counter += 1\n",
    "print(counter)"
   ]
  },
  {
   "cell_type": "code",
   "execution_count": 199,
   "id": "c7abaf76",
   "metadata": {},
   "outputs": [],
   "source": [
    "superheroes = list(edgelist.source.unique())\n",
    "for superhero in superheroes:\n",
    "    years = sorted(temp[temp['source']==superhero].timestamp.values)\n",
    "    last_year = max(years)\n",
    "    if last_year != 2022:\n",
    "        prev_links = edgelist[(edgelist['source']==superhero)&(edgelist['timestamp']==last_year)]\n",
    "        for single_date in (int(last_year) + n for n in range(1,2022 - last_year + 1)):\n",
    "            prev_links = prev_links.assign(timestamp=single_date)\n",
    "            edgelist = edgelist.append(prev_links, ignore_index=True)"
   ]
  },
  {
   "cell_type": "code",
   "execution_count": 200,
   "id": "d0a2e5c1",
   "metadata": {},
   "outputs": [],
   "source": [
    "temp = edgelist.groupby([\"source\", \"timestamp\"]).size().reset_index()"
   ]
  },
  {
   "cell_type": "code",
   "execution_count": 201,
   "id": "9213804d",
   "metadata": {},
   "outputs": [
    {
     "name": "stdout",
     "output_type": "stream",
     "text": [
      "0\n"
     ]
    }
   ],
   "source": [
    "counter = 0\n",
    "superheroes = list(edgelist.source.unique())\n",
    "for superhero in superheroes:\n",
    "    years = sorted(temp[temp['source']==superhero].timestamp.values)\n",
    "    last_year = max(years)\n",
    "    if last_year != 2022:\n",
    "        counter += 1\n",
    "print(counter)"
   ]
  },
  {
   "cell_type": "code",
   "execution_count": 202,
   "id": "3cd56a20",
   "metadata": {},
   "outputs": [
    {
     "data": {
      "text/plain": [
       "timestamp\n",
       "2001       45\n",
       "2002      140\n",
       "2003      399\n",
       "2004     1557\n",
       "2005     5278\n",
       "2006    10963\n",
       "2007    13591\n",
       "2008    15306\n",
       "2009    17237\n",
       "2010    18501\n",
       "2011    19247\n",
       "2012    19939\n",
       "2013    20690\n",
       "2014    21470\n",
       "2015    22232\n",
       "2016    23027\n",
       "2017    23886\n",
       "2018    24303\n",
       "2019    25353\n",
       "2020    26034\n",
       "2021    26155\n",
       "2022    25860\n",
       "dtype: int64"
      ]
     },
     "execution_count": 202,
     "metadata": {},
     "output_type": "execute_result"
    }
   ],
   "source": [
    "counts = edgelist.groupby(\"timestamp\").size()\n",
    "counts"
   ]
  },
  {
   "cell_type": "code",
   "execution_count": 209,
   "id": "06282f60",
   "metadata": {},
   "outputs": [
    {
     "data": {
      "image/png": "[encoded data removed]",
      "text/plain": [
       "<Figure size 1000x500 with 1 Axes>"
      ]
     },
     "metadata": {
      "needs_background": "light"
     },
     "output_type": "display_data"
    }
   ],
   "source": [
    "fig, ax = plt.subplots(figsize=(10,5), dpi=100)\n",
    "ax.plot(counts.index.astype(str), counts.values, '-o', c='darkblue')\n",
    "ax.set_title(\"Number of links for each snapshot\")\n",
    "ax.set_ylabel(\"Counts\")\n",
    "#ax.set_yscale(\"log\")\n",
    "ax.grid()\n",
    "plt.xticks(rotation=45)\n",
    "plt.tight_layout()\n",
    "plt.show()"
   ]
  },
  {
   "cell_type": "code",
   "execution_count": 208,
   "id": "64104aeb",
   "metadata": {},
   "outputs": [],
   "source": [
    "edgelist.to_csv(\"corrected_edgelist.csv\", index=False)"
   ]
  },
  {
   "cell_type": "code",
   "execution_count": null,
   "id": "3946143f",
   "metadata": {},
   "outputs": [],
   "source": []
  }
 ],
 "metadata": {
  "kernelspec": {
   "display_name": "Python 3 (ipykernel)",
   "language": "python",
   "name": "python3"
  },
  "language_info": {
   "codemirror_mode": {
    "name": "ipython",
    "version": 3
   },
   "file_extension": ".py",
   "mimetype": "text/x-python",
   "name": "python",
   "nbconvert_exporter": "python",
   "pygments_lexer": "ipython3",
   "version": "3.8.6"
  }
 },
 "nbformat": 4,
 "nbformat_minor": 5
}
