{
 "cells": [
  {
   "cell_type": "code",
   "execution_count": 2,
   "id": "a2a46b6f",
   "metadata": {},
   "outputs": [],
   "source": [
    "import pandas as pd"
   ]
  },
  {
   "cell_type": "code",
   "execution_count": 16,
   "id": "a024d320",
   "metadata": {},
   "outputs": [],
   "source": [
    "df_marvel = pd.read_csv(\"../files/marvel.csv\", index_col=0, encoding='utf8')\n",
    "df_marvel = df_marvel[df_marvel[\"WikiLink\"].notna()]\n",
    "df_dc = pd.read_csv(\"../files/dc.csv\", index_col=0, encoding='utf8')\n",
    "df_dc = df_dc[df_dc[\"WikiLink\"].notna()]\n",
    "\n",
    "df_marvel['universe'] = 'Marvel'\n",
    "df_dc['universe'] = 'DC'\n",
    "\n",
    "df_comics = pd.concat([df_marvel, df_dc], ignore_index=True, axis=0)"
   ]
  },
  {
   "cell_type": "code",
   "execution_count": null,
   "id": "8a0a1649",
   "metadata": {},
   "outputs": [],
   "source": []
  },
  {
   "cell_type": "code",
   "execution_count": 62,
   "id": "9e37f153",
   "metadata": {},
   "outputs": [
    {
     "name": "stderr",
     "output_type": "stream",
     "text": [
      "1it [00:00,  2.18it/s]"
     ]
    },
    {
     "name": "stdout",
     "output_type": "stream",
     "text": [
      "An error occured: [Errno 2] No such file or directory: 'superheroes/Vidar/number_of_revisions.pkl'\n"
     ]
    },
    {
     "name": "stderr",
     "output_type": "stream",
     "text": [
      "584it [13:18,  1.20s/it]"
     ]
    },
    {
     "name": "stdout",
     "output_type": "stream",
     "text": [
      "An error occured: [Errno 2] No such file or directory: 'superheroes/Viperie/number_of_revisions.pkl'\n"
     ]
    },
    {
     "name": "stderr",
     "output_type": "stream",
     "text": [
      "589it [13:22,  1.05it/s]"
     ]
    },
    {
     "name": "stdout",
     "output_type": "stream",
     "text": [
      "An error occured: [Errno 2] No such file or directory: 'superheroes/Vizacacha/number_of_revisions.pkl'\n"
     ]
    },
    {
     "name": "stderr",
     "output_type": "stream",
     "text": [
      "593it [13:24,  1.55it/s]"
     ]
    },
    {
     "name": "stdout",
     "output_type": "stream",
     "text": [
      "An error occured: [Errno 2] No such file or directory: 'superheroes/Volthoom/number_of_revisions.pkl'\n"
     ]
    },
    {
     "name": "stderr",
     "output_type": "stream",
     "text": [
      "601it [13:39,  1.67s/it]"
     ]
    },
    {
     "name": "stdout",
     "output_type": "stream",
     "text": [
      "An error occured: [Errno 2] No such file or directory: 'superheroes/Vroom, Hans/number_of_revisions.pkl'\n"
     ]
    },
    {
     "name": "stderr",
     "output_type": "stream",
     "text": [
      "\r",
      "602it [13:40,  1.32s/it]"
     ]
    },
    {
     "name": "stdout",
     "output_type": "stream",
     "text": [
      "An error occured: [Errno 2] No such file or directory: 'superheroes/Vul, Tri/number_of_revisions.pkl'\n"
     ]
    },
    {
     "name": "stderr",
     "output_type": "stream",
     "text": [
      "605it [13:42,  1.15it/s]"
     ]
    },
    {
     "name": "stdout",
     "output_type": "stream",
     "text": [
      "An error occured: [Errno 2] No such file or directory: \"superheroes/X' Hal/number_of_revisions.pkl\"\n"
     ]
    },
    {
     "name": "stderr",
     "output_type": "stream",
     "text": [
      "\r",
      "606it [13:42,  1.34it/s]"
     ]
    },
    {
     "name": "stdout",
     "output_type": "stream",
     "text": [
      "An error occured: [Errno 2] No such file or directory: 'superheroes/X-2-Y/number_of_revisions.pkl'\n"
     ]
    },
    {
     "name": "stderr",
     "output_type": "stream",
     "text": [
      "\r",
      "607it [13:43,  1.48it/s]"
     ]
    },
    {
     "name": "stdout",
     "output_type": "stream",
     "text": [
      "An error occured: [Errno 2] No such file or directory: 'superheroes/X-5 Super Agent/number_of_revisions.pkl'\n"
     ]
    },
    {
     "name": "stderr",
     "output_type": "stream",
     "text": [
      "\r",
      "608it [13:43,  1.62it/s]"
     ]
    },
    {
     "name": "stdout",
     "output_type": "stream",
     "text": [
      "An error occured: [Errno 2] No such file or directory: 'superheroes/X/number_of_revisions.pkl'\n"
     ]
    },
    {
     "name": "stderr",
     "output_type": "stream",
     "text": [
      "611it [13:45,  1.81it/s]"
     ]
    },
    {
     "name": "stdout",
     "output_type": "stream",
     "text": [
      "An error occured: [Errno 2] No such file or directory: 'superheroes/Xardo/number_of_revisions.pkl'\n"
     ]
    },
    {
     "name": "stderr",
     "output_type": "stream",
     "text": [
      "\r",
      "612it [13:45,  1.92it/s]"
     ]
    },
    {
     "name": "stdout",
     "output_type": "stream",
     "text": [
      "An error occured: [Errno 2] No such file or directory: 'superheroes/Xasnu/number_of_revisions.pkl'\n"
     ]
    },
    {
     "name": "stderr",
     "output_type": "stream",
     "text": [
      "\r",
      "613it [13:46,  2.03it/s]"
     ]
    },
    {
     "name": "stdout",
     "output_type": "stream",
     "text": [
      "An error occured: [Errno 2] No such file or directory: 'superheroes/X-Bomb Betty/number_of_revisions.pkl'\n"
     ]
    },
    {
     "name": "stderr",
     "output_type": "stream",
     "text": [
      "\r",
      "614it [13:46,  2.10it/s]"
     ]
    },
    {
     "name": "stdout",
     "output_type": "stream",
     "text": [
      "An error occured: [Errno 2] No such file or directory: 'superheroes/Xenofobe/number_of_revisions.pkl'\n"
     ]
    },
    {
     "name": "stderr",
     "output_type": "stream",
     "text": [
      "\r",
      "615it [13:47,  2.08it/s]"
     ]
    },
    {
     "name": "stdout",
     "output_type": "stream",
     "text": [
      "An error occured: [Errno 2] No such file or directory: 'superheroes/Xeo/number_of_revisions.pkl'\n"
     ]
    },
    {
     "name": "stderr",
     "output_type": "stream",
     "text": [
      "\r",
      "616it [13:47,  2.12it/s]"
     ]
    },
    {
     "name": "stdout",
     "output_type": "stream",
     "text": [
      "An error occured: [Errno 2] No such file or directory: 'superheroes/Xera/number_of_revisions.pkl'\n"
     ]
    },
    {
     "name": "stderr",
     "output_type": "stream",
     "text": [
      "\r",
      "617it [13:47,  2.13it/s]"
     ]
    },
    {
     "name": "stdout",
     "output_type": "stream",
     "text": [
      "An error occured: [Errno 2] No such file or directory: 'superheroes/Xero/number_of_revisions.pkl'\n"
     ]
    },
    {
     "name": "stderr",
     "output_type": "stream",
     "text": [
      "\r",
      "618it [13:48,  2.16it/s]"
     ]
    },
    {
     "name": "stdout",
     "output_type": "stream",
     "text": [
      "An error occured: [Errno 2] No such file or directory: 'superheroes/Xiang-Fa/number_of_revisions.pkl'\n"
     ]
    },
    {
     "name": "stderr",
     "output_type": "stream",
     "text": [
      "622it [13:53,  1.07it/s]"
     ]
    },
    {
     "name": "stdout",
     "output_type": "stream",
     "text": [
      "An error occured: [Errno 2] No such file or directory: 'superheroes/Xov/number_of_revisions.pkl'\n"
     ]
    },
    {
     "name": "stderr",
     "output_type": "stream",
     "text": [
      "626it [13:55,  1.34s/it]\n"
     ]
    }
   ],
   "source": [
    "import requests\n",
    "import datetime\n",
    "import json\n",
    "from tqdm import tqdm\n",
    "import numpy as np\n",
    "from urllib import request\n",
    "from urllib.parse import quote\n",
    "import os\n",
    "import pickle\n",
    "\n",
    "BASE_URL = \"http://en.wikipedia.org/w/api.php\"\n",
    "\n",
    "for idx, row in tqdm(df_comics.iloc[1677:].iterrows()):\n",
    "    wikilink = row[\"WikiLink\"]\n",
    "    character_name = row[\"CharacterName\"]\n",
    "    #ser = pd.Series(index=[2001 + n for n in range(1, 2001-2022 + 1)], dtype='float64')\n",
    "    ser = dict.fromkeys([2000 + n for n in range(1, 2022-2001 + 2)], 0)\n",
    "    for link in wikilink.split('|'):\n",
    "        parameters = { 'action': 'query',\n",
    "                   'format': 'json',\n",
    "                   'continue': '',\n",
    "                   'titles': link,\n",
    "                   'prop': 'revisions',\n",
    "                   'rvprop': 'ids|timestamp',\n",
    "                   'rvlimit': 'max'}\n",
    "\n",
    "        wp_call = requests.get(BASE_URL, params=parameters)\n",
    "        response = wp_call.json()\n",
    "\n",
    "        total_revisions = 0\n",
    "\n",
    "        revid_timestamp = dict()\n",
    "\n",
    "        while True:\n",
    "            wp_call = requests.get(BASE_URL, params=parameters)\n",
    "            response = wp_call.json()\n",
    "        \n",
    "\n",
    "            for page_id in response['query']['pages']:\n",
    "                \n",
    "                if 'revisions' in response['query']['pages'][page_id].keys():\n",
    "                \n",
    "                    total_revisions += len(response['query']['pages'][page_id]['revisions'])\n",
    "                    response['query']['pages'][page_id]['revisions']\n",
    "\n",
    "                    for revision in response['query']['pages'][page_id]['revisions']:\n",
    "                        revid_timestamp[revision['timestamp']] = revision['revid']\n",
    "\n",
    "            if 'continue' in response:\n",
    "                parameters['continue'] = response['continue']['continue']\n",
    "                parameters['rvcontinue'] = response['continue']['rvcontinue']\n",
    "\n",
    "            else:\n",
    "                break\n",
    "\n",
    "        #Selecting timestamps to query\n",
    "        new_format = \"%Y-%m-%d %H:%M:%S\"\n",
    "        converted_keys = {datetime.datetime.strptime(time_stamp, \"%Y-%m-%dT%H:%M:%SZ\").strftime(new_format):revid for time_stamp, revid in revid_timestamp.items()}\n",
    "        converted_keys\n",
    "        df = pd.DataFrame.from_dict({'timestamp':list(converted_keys.keys()),'rev_id':list(converted_keys.values())})\n",
    "        df['timestamp'] = pd.to_datetime(df['timestamp'],  format='%Y-%m-%d %H:%M:%S')\n",
    "        #df['timestamp'] = df['timestamp'].year\n",
    "        dfg = df.groupby(pd.Grouper(key='timestamp', freq='Y'))  # Q: group by quarter\n",
    "        number_of_revisions_pr_year = dfg.size()\n",
    "        for index, count in number_of_revisions_pr_year.iteritems():\n",
    "            ser[int(str(index)[:4])] += count\n",
    "    try:    \n",
    "        with open('superheroes/' + row.CharacterName + '/' + 'number_of_revisions.pkl', 'wb') as f:\n",
    "            pickle.dump(ser, f)\n",
    "        \n",
    "    except Exception as e:\n",
    "        print(f'An error occured: {e}')\n",
    "        \n",
    "        # Finally, find the max date in each quater\n",
    "        #selected_timestamps = dfg.agg({'timestamp': np.max}).timestamp.astype(str).tolist()"
   ]
  },
  {
   "cell_type": "code",
   "execution_count": 61,
   "id": "c8d420c4",
   "metadata": {},
   "outputs": [
    {
     "data": {
      "text/plain": [
       "1677"
      ]
     },
     "execution_count": 61,
     "metadata": {},
     "output_type": "execute_result"
    }
   ],
   "source": [
    "idx"
   ]
  },
  {
   "cell_type": "code",
   "execution_count": 58,
   "id": "88abd00f",
   "metadata": {},
   "outputs": [
    {
     "data": {
      "text/plain": [
       "{2001: 0,\n",
       " 2002: 0,\n",
       " 2003: 0,\n",
       " 2004: 7,\n",
       " 2005: 71,\n",
       " 2006: 301,\n",
       " 2007: 203,\n",
       " 2008: 679,\n",
       " 2009: 471,\n",
       " 2010: 94,\n",
       " 2011: 83,\n",
       " 2012: 102,\n",
       " 2013: 61,\n",
       " 2014: 184,\n",
       " 2015: 104,\n",
       " 2016: 116,\n",
       " 2017: 65,\n",
       " 2018: 62,\n",
       " 2019: 81,\n",
       " 2020: 147,\n",
       " 2021: 113,\n",
       " 2022: 146}"
      ]
     },
     "execution_count": 58,
     "metadata": {},
     "output_type": "execute_result"
    }
   ],
   "source": [
    "ser"
   ]
  },
  {
   "cell_type": "code",
   "execution_count": 59,
   "id": "a9a13604",
   "metadata": {},
   "outputs": [
    {
     "data": {
      "text/plain": [
       "'superheroes/Abomination/revisions.pkl'"
      ]
     },
     "execution_count": 59,
     "metadata": {},
     "output_type": "execute_result"
    }
   ],
   "source": [
    "'superheroes/' + row.CharacterName + '/' + 'number_of_revisions.pkl'"
   ]
  },
  {
   "cell_type": "code",
   "execution_count": 24,
   "id": "339d9154",
   "metadata": {},
   "outputs": [
    {
     "data": {
      "text/plain": [
       "timestamp\n",
       "2004-12-31      7\n",
       "2005-12-31     71\n",
       "2006-12-31    301\n",
       "2007-12-31    203\n",
       "2008-12-31    679\n",
       "2009-12-31    471\n",
       "2010-12-31     94\n",
       "2011-12-31     83\n",
       "2012-12-31    102\n",
       "2013-12-31     61\n",
       "2014-12-31    184\n",
       "2015-12-31    104\n",
       "2016-12-31    116\n",
       "2017-12-31     65\n",
       "2018-12-31     62\n",
       "2019-12-31     81\n",
       "2020-12-31    147\n",
       "2021-12-31    113\n",
       "2022-12-31    146\n",
       "Freq: A-DEC, dtype: int64"
      ]
     },
     "execution_count": 24,
     "metadata": {},
     "output_type": "execute_result"
    }
   ],
   "source": [
    "dfg.size()"
   ]
  },
  {
   "cell_type": "code",
   "execution_count": 38,
   "id": "62bbe79a",
   "metadata": {},
   "outputs": [
    {
     "data": {
      "text/plain": [
       "{}"
      ]
     },
     "execution_count": 38,
     "metadata": {},
     "output_type": "execute_result"
    }
   ],
   "source": [
    "dict.fromkeys([f\"200{n}\" + n for n in range(2001-2022 + 1)])"
   ]
  },
  {
   "cell_type": "code",
   "execution_count": 47,
   "id": "1f4d8ad8",
   "metadata": {},
   "outputs": [
    {
     "data": {
      "text/plain": [
       "[2001,\n",
       " 2002,\n",
       " 2003,\n",
       " 2004,\n",
       " 2005,\n",
       " 2006,\n",
       " 2007,\n",
       " 2008,\n",
       " 2009,\n",
       " 2010,\n",
       " 2011,\n",
       " 2012,\n",
       " 2013,\n",
       " 2014,\n",
       " 2015,\n",
       " 2016,\n",
       " 2017,\n",
       " 2018,\n",
       " 2019,\n",
       " 2020,\n",
       " 2021,\n",
       " 2022]"
      ]
     },
     "execution_count": 47,
     "metadata": {},
     "output_type": "execute_result"
    }
   ],
   "source": [
    "[2000 + n for n in range(1, 2022-2001 + 2)] #check this in the other one"
   ]
  }
 ],
 "metadata": {
  "kernelspec": {
   "display_name": "Python 3 (ipykernel)",
   "language": "python",
   "name": "python3"
  },
  "language_info": {
   "codemirror_mode": {
    "name": "ipython",
    "version": 3
   },
   "file_extension": ".py",
   "mimetype": "text/x-python",
   "name": "python",
   "nbconvert_exporter": "python",
   "pygments_lexer": "ipython3",
   "version": "3.8.6"
  }
 },
 "nbformat": 4,
 "nbformat_minor": 5
}
